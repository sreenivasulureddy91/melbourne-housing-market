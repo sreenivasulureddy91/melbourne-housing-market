{
  "cells": [
    {
      "cell_type": "markdown",
      "metadata": {
        "id": "view-in-github",
        "colab_type": "text"
      },
      "source": [
        "<a href=\"https://colab.research.google.com/github/sreenivasulureddy91/melbourne-housing-market/blob/main/project.ipynb\" target=\"_parent\"><img src=\"https://colab.research.google.com/assets/colab-badge.svg\" alt=\"Open In Colab\"/></a>"
      ]
    },
    {
      "cell_type": "code",
      "source": [
        "!pip install ipython-autotime\n",
        "%load_ext autotime"
      ],
      "metadata": {
        "colab": {
          "base_uri": "https://localhost:8080/"
        },
        "id": "jrAzQnW8zB-Q",
        "outputId": "ba141d2c-15d2-43a9-d6e8-e087a8f8d26e"
      },
      "execution_count": null,
      "outputs": [
        {
          "output_type": "stream",
          "name": "stdout",
          "text": [
            "Requirement already satisfied: ipython-autotime in /usr/local/lib/python3.7/dist-packages (0.3.1)\n",
            "Requirement already satisfied: ipython in /usr/local/lib/python3.7/dist-packages (from ipython-autotime) (5.5.0)\n",
            "Requirement already satisfied: pickleshare in /usr/local/lib/python3.7/dist-packages (from ipython->ipython-autotime) (0.7.5)\n",
            "Requirement already satisfied: setuptools>=18.5 in /usr/local/lib/python3.7/dist-packages (from ipython->ipython-autotime) (57.4.0)\n",
            "Requirement already satisfied: simplegeneric>0.8 in /usr/local/lib/python3.7/dist-packages (from ipython->ipython-autotime) (0.8.1)\n",
            "Requirement already satisfied: pygments in /usr/local/lib/python3.7/dist-packages (from ipython->ipython-autotime) (2.6.1)\n",
            "Requirement already satisfied: decorator in /usr/local/lib/python3.7/dist-packages (from ipython->ipython-autotime) (4.4.2)\n",
            "Requirement already satisfied: traitlets>=4.2 in /usr/local/lib/python3.7/dist-packages (from ipython->ipython-autotime) (5.1.1)\n",
            "Requirement already satisfied: prompt-toolkit<2.0.0,>=1.0.4 in /usr/local/lib/python3.7/dist-packages (from ipython->ipython-autotime) (1.0.18)\n",
            "Requirement already satisfied: pexpect in /usr/local/lib/python3.7/dist-packages (from ipython->ipython-autotime) (4.8.0)\n",
            "Requirement already satisfied: six>=1.9.0 in /usr/local/lib/python3.7/dist-packages (from prompt-toolkit<2.0.0,>=1.0.4->ipython->ipython-autotime) (1.15.0)\n",
            "Requirement already satisfied: wcwidth in /usr/local/lib/python3.7/dist-packages (from prompt-toolkit<2.0.0,>=1.0.4->ipython->ipython-autotime) (0.2.5)\n",
            "Requirement already satisfied: ptyprocess>=0.5 in /usr/local/lib/python3.7/dist-packages (from pexpect->ipython->ipython-autotime) (0.7.0)\n",
            "The autotime extension is already loaded. To reload it, use:\n",
            "  %reload_ext autotime\n",
            "time: 2.74 s (started: 2022-04-09 02:31:28 +00:00)\n"
          ]
        }
      ]
    },
    {
      "cell_type": "code",
      "execution_count": null,
      "metadata": {
        "id": "3HwL2IAYK59S",
        "colab": {
          "base_uri": "https://localhost:8080/"
        },
        "outputId": "e0b0e98a-825e-4e3b-afed-70a31dfa1640"
      },
      "outputs": [
        {
          "output_type": "stream",
          "name": "stdout",
          "text": [
            "time: 2.4 ms (started: 2022-04-09 02:31:31 +00:00)\n"
          ]
        }
      ],
      "source": [
        "import pandas as pd\n",
        "import numpy as np"
      ]
    },
    {
      "cell_type": "code",
      "execution_count": null,
      "metadata": {
        "id": "aIXH0lvKLNkJ",
        "colab": {
          "base_uri": "https://localhost:8080/"
        },
        "outputId": "1ac510fd-7895-46c2-ee72-2d4f3feccc80"
      },
      "outputs": [
        {
          "output_type": "stream",
          "name": "stdout",
          "text": [
            "time: 123 ms (started: 2022-04-09 02:31:31 +00:00)\n"
          ]
        }
      ],
      "source": [
        "df=pd.read_csv('/content/drive/MyDrive/INT247/Melbourne_housing_FULL (2).csv')"
      ]
    },
    {
      "cell_type": "code",
      "execution_count": null,
      "metadata": {
        "colab": {
          "base_uri": "https://localhost:8080/",
          "height": 421
        },
        "id": "_yAOjqzfLVcH",
        "outputId": "9e3096fe-b6c4-488c-f7f9-aaa61a49f956"
      },
      "outputs": [
        {
          "output_type": "execute_result",
          "data": {
            "text/plain": [
              "       Suburb             Address  Rooms Type      Price Method SellerG  \\\n",
              "0  Abbotsford       68 Studley St      2    h        NaN     SS  Jellis   \n",
              "1  Abbotsford        85 Turner St      2    h  1480000.0      S  Biggin   \n",
              "2  Abbotsford     25 Bloomburg St      2    h  1035000.0      S  Biggin   \n",
              "3  Abbotsford  18/659 Victoria St      3    u        NaN     VB  Rounds   \n",
              "4  Abbotsford        5 Charles St      3    h  1465000.0     SP  Biggin   \n",
              "\n",
              "        Date  Distance  Postcode  ...  Bathroom  Car  Landsize  BuildingArea  \\\n",
              "0  3/09/2016       2.5    3067.0  ...       1.0  1.0     126.0           NaN   \n",
              "1  3/12/2016       2.5    3067.0  ...       1.0  1.0     202.0           NaN   \n",
              "2  4/02/2016       2.5    3067.0  ...       1.0  0.0     156.0          79.0   \n",
              "3  4/02/2016       2.5    3067.0  ...       2.0  1.0       0.0           NaN   \n",
              "4  4/03/2017       2.5    3067.0  ...       2.0  0.0     134.0         150.0   \n",
              "\n",
              "   YearBuilt         CouncilArea Lattitude  Longtitude             Regionname  \\\n",
              "0        NaN  Yarra City Council  -37.8014    144.9958  Northern Metropolitan   \n",
              "1        NaN  Yarra City Council  -37.7996    144.9984  Northern Metropolitan   \n",
              "2     1900.0  Yarra City Council  -37.8079    144.9934  Northern Metropolitan   \n",
              "3        NaN  Yarra City Council  -37.8114    145.0116  Northern Metropolitan   \n",
              "4     1900.0  Yarra City Council  -37.8093    144.9944  Northern Metropolitan   \n",
              "\n",
              "  Propertycount  \n",
              "0        4019.0  \n",
              "1        4019.0  \n",
              "2        4019.0  \n",
              "3        4019.0  \n",
              "4        4019.0  \n",
              "\n",
              "[5 rows x 21 columns]"
            ],
            "text/html": [
              "\n",
              "  <div id=\"df-e6f52184-7a37-4a41-bea8-cd287a273135\">\n",
              "    <div class=\"colab-df-container\">\n",
              "      <div>\n",
              "<style scoped>\n",
              "    .dataframe tbody tr th:only-of-type {\n",
              "        vertical-align: middle;\n",
              "    }\n",
              "\n",
              "    .dataframe tbody tr th {\n",
              "        vertical-align: top;\n",
              "    }\n",
              "\n",
              "    .dataframe thead th {\n",
              "        text-align: right;\n",
              "    }\n",
              "</style>\n",
              "<table border=\"1\" class=\"dataframe\">\n",
              "  <thead>\n",
              "    <tr style=\"text-align: right;\">\n",
              "      <th></th>\n",
              "      <th>Suburb</th>\n",
              "      <th>Address</th>\n",
              "      <th>Rooms</th>\n",
              "      <th>Type</th>\n",
              "      <th>Price</th>\n",
              "      <th>Method</th>\n",
              "      <th>SellerG</th>\n",
              "      <th>Date</th>\n",
              "      <th>Distance</th>\n",
              "      <th>Postcode</th>\n",
              "      <th>...</th>\n",
              "      <th>Bathroom</th>\n",
              "      <th>Car</th>\n",
              "      <th>Landsize</th>\n",
              "      <th>BuildingArea</th>\n",
              "      <th>YearBuilt</th>\n",
              "      <th>CouncilArea</th>\n",
              "      <th>Lattitude</th>\n",
              "      <th>Longtitude</th>\n",
              "      <th>Regionname</th>\n",
              "      <th>Propertycount</th>\n",
              "    </tr>\n",
              "  </thead>\n",
              "  <tbody>\n",
              "    <tr>\n",
              "      <th>0</th>\n",
              "      <td>Abbotsford</td>\n",
              "      <td>68 Studley St</td>\n",
              "      <td>2</td>\n",
              "      <td>h</td>\n",
              "      <td>NaN</td>\n",
              "      <td>SS</td>\n",
              "      <td>Jellis</td>\n",
              "      <td>3/09/2016</td>\n",
              "      <td>2.5</td>\n",
              "      <td>3067.0</td>\n",
              "      <td>...</td>\n",
              "      <td>1.0</td>\n",
              "      <td>1.0</td>\n",
              "      <td>126.0</td>\n",
              "      <td>NaN</td>\n",
              "      <td>NaN</td>\n",
              "      <td>Yarra City Council</td>\n",
              "      <td>-37.8014</td>\n",
              "      <td>144.9958</td>\n",
              "      <td>Northern Metropolitan</td>\n",
              "      <td>4019.0</td>\n",
              "    </tr>\n",
              "    <tr>\n",
              "      <th>1</th>\n",
              "      <td>Abbotsford</td>\n",
              "      <td>85 Turner St</td>\n",
              "      <td>2</td>\n",
              "      <td>h</td>\n",
              "      <td>1480000.0</td>\n",
              "      <td>S</td>\n",
              "      <td>Biggin</td>\n",
              "      <td>3/12/2016</td>\n",
              "      <td>2.5</td>\n",
              "      <td>3067.0</td>\n",
              "      <td>...</td>\n",
              "      <td>1.0</td>\n",
              "      <td>1.0</td>\n",
              "      <td>202.0</td>\n",
              "      <td>NaN</td>\n",
              "      <td>NaN</td>\n",
              "      <td>Yarra City Council</td>\n",
              "      <td>-37.7996</td>\n",
              "      <td>144.9984</td>\n",
              "      <td>Northern Metropolitan</td>\n",
              "      <td>4019.0</td>\n",
              "    </tr>\n",
              "    <tr>\n",
              "      <th>2</th>\n",
              "      <td>Abbotsford</td>\n",
              "      <td>25 Bloomburg St</td>\n",
              "      <td>2</td>\n",
              "      <td>h</td>\n",
              "      <td>1035000.0</td>\n",
              "      <td>S</td>\n",
              "      <td>Biggin</td>\n",
              "      <td>4/02/2016</td>\n",
              "      <td>2.5</td>\n",
              "      <td>3067.0</td>\n",
              "      <td>...</td>\n",
              "      <td>1.0</td>\n",
              "      <td>0.0</td>\n",
              "      <td>156.0</td>\n",
              "      <td>79.0</td>\n",
              "      <td>1900.0</td>\n",
              "      <td>Yarra City Council</td>\n",
              "      <td>-37.8079</td>\n",
              "      <td>144.9934</td>\n",
              "      <td>Northern Metropolitan</td>\n",
              "      <td>4019.0</td>\n",
              "    </tr>\n",
              "    <tr>\n",
              "      <th>3</th>\n",
              "      <td>Abbotsford</td>\n",
              "      <td>18/659 Victoria St</td>\n",
              "      <td>3</td>\n",
              "      <td>u</td>\n",
              "      <td>NaN</td>\n",
              "      <td>VB</td>\n",
              "      <td>Rounds</td>\n",
              "      <td>4/02/2016</td>\n",
              "      <td>2.5</td>\n",
              "      <td>3067.0</td>\n",
              "      <td>...</td>\n",
              "      <td>2.0</td>\n",
              "      <td>1.0</td>\n",
              "      <td>0.0</td>\n",
              "      <td>NaN</td>\n",
              "      <td>NaN</td>\n",
              "      <td>Yarra City Council</td>\n",
              "      <td>-37.8114</td>\n",
              "      <td>145.0116</td>\n",
              "      <td>Northern Metropolitan</td>\n",
              "      <td>4019.0</td>\n",
              "    </tr>\n",
              "    <tr>\n",
              "      <th>4</th>\n",
              "      <td>Abbotsford</td>\n",
              "      <td>5 Charles St</td>\n",
              "      <td>3</td>\n",
              "      <td>h</td>\n",
              "      <td>1465000.0</td>\n",
              "      <td>SP</td>\n",
              "      <td>Biggin</td>\n",
              "      <td>4/03/2017</td>\n",
              "      <td>2.5</td>\n",
              "      <td>3067.0</td>\n",
              "      <td>...</td>\n",
              "      <td>2.0</td>\n",
              "      <td>0.0</td>\n",
              "      <td>134.0</td>\n",
              "      <td>150.0</td>\n",
              "      <td>1900.0</td>\n",
              "      <td>Yarra City Council</td>\n",
              "      <td>-37.8093</td>\n",
              "      <td>144.9944</td>\n",
              "      <td>Northern Metropolitan</td>\n",
              "      <td>4019.0</td>\n",
              "    </tr>\n",
              "  </tbody>\n",
              "</table>\n",
              "<p>5 rows × 21 columns</p>\n",
              "</div>\n",
              "      <button class=\"colab-df-convert\" onclick=\"convertToInteractive('df-e6f52184-7a37-4a41-bea8-cd287a273135')\"\n",
              "              title=\"Convert this dataframe to an interactive table.\"\n",
              "              style=\"display:none;\">\n",
              "        \n",
              "  <svg xmlns=\"http://www.w3.org/2000/svg\" height=\"24px\"viewBox=\"0 0 24 24\"\n",
              "       width=\"24px\">\n",
              "    <path d=\"M0 0h24v24H0V0z\" fill=\"none\"/>\n",
              "    <path d=\"M18.56 5.44l.94 2.06.94-2.06 2.06-.94-2.06-.94-.94-2.06-.94 2.06-2.06.94zm-11 1L8.5 8.5l.94-2.06 2.06-.94-2.06-.94L8.5 2.5l-.94 2.06-2.06.94zm10 10l.94 2.06.94-2.06 2.06-.94-2.06-.94-.94-2.06-.94 2.06-2.06.94z\"/><path d=\"M17.41 7.96l-1.37-1.37c-.4-.4-.92-.59-1.43-.59-.52 0-1.04.2-1.43.59L10.3 9.45l-7.72 7.72c-.78.78-.78 2.05 0 2.83L4 21.41c.39.39.9.59 1.41.59.51 0 1.02-.2 1.41-.59l7.78-7.78 2.81-2.81c.8-.78.8-2.07 0-2.86zM5.41 20L4 18.59l7.72-7.72 1.47 1.35L5.41 20z\"/>\n",
              "  </svg>\n",
              "      </button>\n",
              "      \n",
              "  <style>\n",
              "    .colab-df-container {\n",
              "      display:flex;\n",
              "      flex-wrap:wrap;\n",
              "      gap: 12px;\n",
              "    }\n",
              "\n",
              "    .colab-df-convert {\n",
              "      background-color: #E8F0FE;\n",
              "      border: none;\n",
              "      border-radius: 50%;\n",
              "      cursor: pointer;\n",
              "      display: none;\n",
              "      fill: #1967D2;\n",
              "      height: 32px;\n",
              "      padding: 0 0 0 0;\n",
              "      width: 32px;\n",
              "    }\n",
              "\n",
              "    .colab-df-convert:hover {\n",
              "      background-color: #E2EBFA;\n",
              "      box-shadow: 0px 1px 2px rgba(60, 64, 67, 0.3), 0px 1px 3px 1px rgba(60, 64, 67, 0.15);\n",
              "      fill: #174EA6;\n",
              "    }\n",
              "\n",
              "    [theme=dark] .colab-df-convert {\n",
              "      background-color: #3B4455;\n",
              "      fill: #D2E3FC;\n",
              "    }\n",
              "\n",
              "    [theme=dark] .colab-df-convert:hover {\n",
              "      background-color: #434B5C;\n",
              "      box-shadow: 0px 1px 3px 1px rgba(0, 0, 0, 0.15);\n",
              "      filter: drop-shadow(0px 1px 2px rgba(0, 0, 0, 0.3));\n",
              "      fill: #FFFFFF;\n",
              "    }\n",
              "  </style>\n",
              "\n",
              "      <script>\n",
              "        const buttonEl =\n",
              "          document.querySelector('#df-e6f52184-7a37-4a41-bea8-cd287a273135 button.colab-df-convert');\n",
              "        buttonEl.style.display =\n",
              "          google.colab.kernel.accessAllowed ? 'block' : 'none';\n",
              "\n",
              "        async function convertToInteractive(key) {\n",
              "          const element = document.querySelector('#df-e6f52184-7a37-4a41-bea8-cd287a273135');\n",
              "          const dataTable =\n",
              "            await google.colab.kernel.invokeFunction('convertToInteractive',\n",
              "                                                     [key], {});\n",
              "          if (!dataTable) return;\n",
              "\n",
              "          const docLinkHtml = 'Like what you see? Visit the ' +\n",
              "            '<a target=\"_blank\" href=https://colab.research.google.com/notebooks/data_table.ipynb>data table notebook</a>'\n",
              "            + ' to learn more about interactive tables.';\n",
              "          element.innerHTML = '';\n",
              "          dataTable['output_type'] = 'display_data';\n",
              "          await google.colab.output.renderOutput(dataTable, element);\n",
              "          const docLink = document.createElement('div');\n",
              "          docLink.innerHTML = docLinkHtml;\n",
              "          element.appendChild(docLink);\n",
              "        }\n",
              "      </script>\n",
              "    </div>\n",
              "  </div>\n",
              "  "
            ]
          },
          "metadata": {},
          "execution_count": 93
        },
        {
          "output_type": "stream",
          "name": "stdout",
          "text": [
            "time: 27.7 ms (started: 2022-04-09 02:31:31 +00:00)\n"
          ]
        }
      ],
      "source": [
        "df.head()"
      ]
    },
    {
      "cell_type": "code",
      "source": [
        "df.shape"
      ],
      "metadata": {
        "colab": {
          "base_uri": "https://localhost:8080/"
        },
        "id": "T0h67JFta0BH",
        "outputId": "19769702-acf3-46aa-e8b9-252d2f19880e"
      },
      "execution_count": null,
      "outputs": [
        {
          "output_type": "execute_result",
          "data": {
            "text/plain": [
              "(34857, 21)"
            ]
          },
          "metadata": {},
          "execution_count": 94
        },
        {
          "output_type": "stream",
          "name": "stdout",
          "text": [
            "time: 2.89 ms (started: 2022-04-09 02:31:31 +00:00)\n"
          ]
        }
      ]
    },
    {
      "cell_type": "code",
      "source": [
        "df.info()"
      ],
      "metadata": {
        "colab": {
          "base_uri": "https://localhost:8080/"
        },
        "id": "yZ1ROVYHa01e",
        "outputId": "3192ab48-0d4d-4174-f3a2-7dfb833363c8"
      },
      "execution_count": null,
      "outputs": [
        {
          "output_type": "stream",
          "name": "stdout",
          "text": [
            "<class 'pandas.core.frame.DataFrame'>\n",
            "RangeIndex: 34857 entries, 0 to 34856\n",
            "Data columns (total 21 columns):\n",
            " #   Column         Non-Null Count  Dtype  \n",
            "---  ------         --------------  -----  \n",
            " 0   Suburb         34857 non-null  object \n",
            " 1   Address        34857 non-null  object \n",
            " 2   Rooms          34857 non-null  int64  \n",
            " 3   Type           34857 non-null  object \n",
            " 4   Price          27247 non-null  float64\n",
            " 5   Method         34857 non-null  object \n",
            " 6   SellerG        34857 non-null  object \n",
            " 7   Date           34857 non-null  object \n",
            " 8   Distance       34856 non-null  float64\n",
            " 9   Postcode       34856 non-null  float64\n",
            " 10  Bedroom2       26640 non-null  float64\n",
            " 11  Bathroom       26631 non-null  float64\n",
            " 12  Car            26129 non-null  float64\n",
            " 13  Landsize       23047 non-null  float64\n",
            " 14  BuildingArea   13742 non-null  float64\n",
            " 15  YearBuilt      15551 non-null  float64\n",
            " 16  CouncilArea    34854 non-null  object \n",
            " 17  Lattitude      26881 non-null  float64\n",
            " 18  Longtitude     26881 non-null  float64\n",
            " 19  Regionname     34854 non-null  object \n",
            " 20  Propertycount  34854 non-null  float64\n",
            "dtypes: float64(12), int64(1), object(8)\n",
            "memory usage: 5.6+ MB\n",
            "time: 35.1 ms (started: 2022-04-09 02:31:31 +00:00)\n"
          ]
        }
      ]
    },
    {
      "cell_type": "code",
      "source": [
        "df.select_dtypes(['object']).columns\n"
      ],
      "metadata": {
        "colab": {
          "base_uri": "https://localhost:8080/"
        },
        "id": "QOkquxs0bBML",
        "outputId": "cacdf16a-7b41-4b9b-ba3a-0199d2139f70"
      },
      "execution_count": null,
      "outputs": [
        {
          "output_type": "execute_result",
          "data": {
            "text/plain": [
              "Index(['Suburb', 'Address', 'Type', 'Method', 'SellerG', 'Date', 'CouncilArea',\n",
              "       'Regionname'],\n",
              "      dtype='object')"
            ]
          },
          "metadata": {},
          "execution_count": 96
        },
        {
          "output_type": "stream",
          "name": "stdout",
          "text": [
            "time: 10.8 ms (started: 2022-04-09 02:31:31 +00:00)\n"
          ]
        }
      ]
    },
    {
      "cell_type": "code",
      "source": [
        "obj_cats = ['Suburb', 'Address', 'Type', 'Method', 'SellerG', 'CouncilArea','Regionname']\n",
        "\n",
        "for colname in obj_cats:\n",
        "    df[colname] = df[colname].astype('category')  "
      ],
      "metadata": {
        "id": "IAxkK4eAbObA",
        "colab": {
          "base_uri": "https://localhost:8080/"
        },
        "outputId": "1315a089-ac2e-4d7e-eeff-ce1a61bdb849"
      },
      "execution_count": null,
      "outputs": [
        {
          "output_type": "stream",
          "name": "stdout",
          "text": [
            "time: 81.9 ms (started: 2022-04-09 02:31:31 +00:00)\n"
          ]
        }
      ]
    },
    {
      "cell_type": "code",
      "source": [
        "df['Date'] = pd.to_datetime(df['Date'])"
      ],
      "metadata": {
        "id": "7Z69GIyBbWPX",
        "colab": {
          "base_uri": "https://localhost:8080/"
        },
        "outputId": "0046272b-75ee-4e85-dbbd-d3321397a130"
      },
      "execution_count": null,
      "outputs": [
        {
          "output_type": "stream",
          "name": "stdout",
          "text": [
            "time: 15.9 ms (started: 2022-04-09 02:31:31 +00:00)\n"
          ]
        }
      ]
    },
    {
      "cell_type": "code",
      "source": [
        "df.describe().transpose()\n"
      ],
      "metadata": {
        "colab": {
          "base_uri": "https://localhost:8080/",
          "height": 474
        },
        "id": "tf5kHkwAbhmZ",
        "outputId": "e422bb57-c7d8-4fbc-ee45-f3b5e7bb9b25"
      },
      "execution_count": null,
      "outputs": [
        {
          "output_type": "execute_result",
          "data": {
            "text/plain": [
              "                 count          mean            std          min  \\\n",
              "Rooms          34857.0  3.031012e+00       0.969933      1.00000   \n",
              "Price          27247.0  1.050173e+06  641467.130105  85000.00000   \n",
              "Distance       34856.0  1.118493e+01       6.788892      0.00000   \n",
              "Postcode       34856.0  3.116063e+03     109.023903   3000.00000   \n",
              "Bedroom2       26640.0  3.084647e+00       0.980690      0.00000   \n",
              "Bathroom       26631.0  1.624798e+00       0.724212      0.00000   \n",
              "Car            26129.0  1.728845e+00       1.010771      0.00000   \n",
              "Landsize       23047.0  5.935990e+02    3398.841946      0.00000   \n",
              "BuildingArea   13742.0  1.602564e+02     401.267060      0.00000   \n",
              "YearBuilt      15551.0  1.965290e+03      37.328178   1196.00000   \n",
              "Lattitude      26881.0 -3.781063e+01       0.090279    -38.19043   \n",
              "Longtitude     26881.0  1.450019e+02       0.120169    144.42379   \n",
              "Propertycount  34854.0  7.572888e+03    4428.090313     83.00000   \n",
              "\n",
              "                        25%          50%           75%           max  \n",
              "Rooms               2.00000       3.0000  4.000000e+00  1.600000e+01  \n",
              "Price          635000.00000  870000.0000  1.295000e+06  1.120000e+07  \n",
              "Distance            6.40000      10.3000  1.400000e+01  4.810000e+01  \n",
              "Postcode         3051.00000    3103.0000  3.156000e+03  3.978000e+03  \n",
              "Bedroom2            2.00000       3.0000  4.000000e+00  3.000000e+01  \n",
              "Bathroom            1.00000       2.0000  2.000000e+00  1.200000e+01  \n",
              "Car                 1.00000       2.0000  2.000000e+00  2.600000e+01  \n",
              "Landsize          224.00000     521.0000  6.700000e+02  4.330140e+05  \n",
              "BuildingArea      102.00000     136.0000  1.880000e+02  4.451500e+04  \n",
              "YearBuilt        1940.00000    1970.0000  2.000000e+03  2.106000e+03  \n",
              "Lattitude         -37.86295     -37.8076 -3.775410e+01 -3.739020e+01  \n",
              "Longtitude        144.93350     145.0078  1.450719e+02  1.455264e+02  \n",
              "Propertycount    4385.00000    6763.0000  1.041200e+04  2.165000e+04  "
            ],
            "text/html": [
              "\n",
              "  <div id=\"df-17c60065-abf2-4d19-af4e-9938c3de9d0a\">\n",
              "    <div class=\"colab-df-container\">\n",
              "      <div>\n",
              "<style scoped>\n",
              "    .dataframe tbody tr th:only-of-type {\n",
              "        vertical-align: middle;\n",
              "    }\n",
              "\n",
              "    .dataframe tbody tr th {\n",
              "        vertical-align: top;\n",
              "    }\n",
              "\n",
              "    .dataframe thead th {\n",
              "        text-align: right;\n",
              "    }\n",
              "</style>\n",
              "<table border=\"1\" class=\"dataframe\">\n",
              "  <thead>\n",
              "    <tr style=\"text-align: right;\">\n",
              "      <th></th>\n",
              "      <th>count</th>\n",
              "      <th>mean</th>\n",
              "      <th>std</th>\n",
              "      <th>min</th>\n",
              "      <th>25%</th>\n",
              "      <th>50%</th>\n",
              "      <th>75%</th>\n",
              "      <th>max</th>\n",
              "    </tr>\n",
              "  </thead>\n",
              "  <tbody>\n",
              "    <tr>\n",
              "      <th>Rooms</th>\n",
              "      <td>34857.0</td>\n",
              "      <td>3.031012e+00</td>\n",
              "      <td>0.969933</td>\n",
              "      <td>1.00000</td>\n",
              "      <td>2.00000</td>\n",
              "      <td>3.0000</td>\n",
              "      <td>4.000000e+00</td>\n",
              "      <td>1.600000e+01</td>\n",
              "    </tr>\n",
              "    <tr>\n",
              "      <th>Price</th>\n",
              "      <td>27247.0</td>\n",
              "      <td>1.050173e+06</td>\n",
              "      <td>641467.130105</td>\n",
              "      <td>85000.00000</td>\n",
              "      <td>635000.00000</td>\n",
              "      <td>870000.0000</td>\n",
              "      <td>1.295000e+06</td>\n",
              "      <td>1.120000e+07</td>\n",
              "    </tr>\n",
              "    <tr>\n",
              "      <th>Distance</th>\n",
              "      <td>34856.0</td>\n",
              "      <td>1.118493e+01</td>\n",
              "      <td>6.788892</td>\n",
              "      <td>0.00000</td>\n",
              "      <td>6.40000</td>\n",
              "      <td>10.3000</td>\n",
              "      <td>1.400000e+01</td>\n",
              "      <td>4.810000e+01</td>\n",
              "    </tr>\n",
              "    <tr>\n",
              "      <th>Postcode</th>\n",
              "      <td>34856.0</td>\n",
              "      <td>3.116063e+03</td>\n",
              "      <td>109.023903</td>\n",
              "      <td>3000.00000</td>\n",
              "      <td>3051.00000</td>\n",
              "      <td>3103.0000</td>\n",
              "      <td>3.156000e+03</td>\n",
              "      <td>3.978000e+03</td>\n",
              "    </tr>\n",
              "    <tr>\n",
              "      <th>Bedroom2</th>\n",
              "      <td>26640.0</td>\n",
              "      <td>3.084647e+00</td>\n",
              "      <td>0.980690</td>\n",
              "      <td>0.00000</td>\n",
              "      <td>2.00000</td>\n",
              "      <td>3.0000</td>\n",
              "      <td>4.000000e+00</td>\n",
              "      <td>3.000000e+01</td>\n",
              "    </tr>\n",
              "    <tr>\n",
              "      <th>Bathroom</th>\n",
              "      <td>26631.0</td>\n",
              "      <td>1.624798e+00</td>\n",
              "      <td>0.724212</td>\n",
              "      <td>0.00000</td>\n",
              "      <td>1.00000</td>\n",
              "      <td>2.0000</td>\n",
              "      <td>2.000000e+00</td>\n",
              "      <td>1.200000e+01</td>\n",
              "    </tr>\n",
              "    <tr>\n",
              "      <th>Car</th>\n",
              "      <td>26129.0</td>\n",
              "      <td>1.728845e+00</td>\n",
              "      <td>1.010771</td>\n",
              "      <td>0.00000</td>\n",
              "      <td>1.00000</td>\n",
              "      <td>2.0000</td>\n",
              "      <td>2.000000e+00</td>\n",
              "      <td>2.600000e+01</td>\n",
              "    </tr>\n",
              "    <tr>\n",
              "      <th>Landsize</th>\n",
              "      <td>23047.0</td>\n",
              "      <td>5.935990e+02</td>\n",
              "      <td>3398.841946</td>\n",
              "      <td>0.00000</td>\n",
              "      <td>224.00000</td>\n",
              "      <td>521.0000</td>\n",
              "      <td>6.700000e+02</td>\n",
              "      <td>4.330140e+05</td>\n",
              "    </tr>\n",
              "    <tr>\n",
              "      <th>BuildingArea</th>\n",
              "      <td>13742.0</td>\n",
              "      <td>1.602564e+02</td>\n",
              "      <td>401.267060</td>\n",
              "      <td>0.00000</td>\n",
              "      <td>102.00000</td>\n",
              "      <td>136.0000</td>\n",
              "      <td>1.880000e+02</td>\n",
              "      <td>4.451500e+04</td>\n",
              "    </tr>\n",
              "    <tr>\n",
              "      <th>YearBuilt</th>\n",
              "      <td>15551.0</td>\n",
              "      <td>1.965290e+03</td>\n",
              "      <td>37.328178</td>\n",
              "      <td>1196.00000</td>\n",
              "      <td>1940.00000</td>\n",
              "      <td>1970.0000</td>\n",
              "      <td>2.000000e+03</td>\n",
              "      <td>2.106000e+03</td>\n",
              "    </tr>\n",
              "    <tr>\n",
              "      <th>Lattitude</th>\n",
              "      <td>26881.0</td>\n",
              "      <td>-3.781063e+01</td>\n",
              "      <td>0.090279</td>\n",
              "      <td>-38.19043</td>\n",
              "      <td>-37.86295</td>\n",
              "      <td>-37.8076</td>\n",
              "      <td>-3.775410e+01</td>\n",
              "      <td>-3.739020e+01</td>\n",
              "    </tr>\n",
              "    <tr>\n",
              "      <th>Longtitude</th>\n",
              "      <td>26881.0</td>\n",
              "      <td>1.450019e+02</td>\n",
              "      <td>0.120169</td>\n",
              "      <td>144.42379</td>\n",
              "      <td>144.93350</td>\n",
              "      <td>145.0078</td>\n",
              "      <td>1.450719e+02</td>\n",
              "      <td>1.455264e+02</td>\n",
              "    </tr>\n",
              "    <tr>\n",
              "      <th>Propertycount</th>\n",
              "      <td>34854.0</td>\n",
              "      <td>7.572888e+03</td>\n",
              "      <td>4428.090313</td>\n",
              "      <td>83.00000</td>\n",
              "      <td>4385.00000</td>\n",
              "      <td>6763.0000</td>\n",
              "      <td>1.041200e+04</td>\n",
              "      <td>2.165000e+04</td>\n",
              "    </tr>\n",
              "  </tbody>\n",
              "</table>\n",
              "</div>\n",
              "      <button class=\"colab-df-convert\" onclick=\"convertToInteractive('df-17c60065-abf2-4d19-af4e-9938c3de9d0a')\"\n",
              "              title=\"Convert this dataframe to an interactive table.\"\n",
              "              style=\"display:none;\">\n",
              "        \n",
              "  <svg xmlns=\"http://www.w3.org/2000/svg\" height=\"24px\"viewBox=\"0 0 24 24\"\n",
              "       width=\"24px\">\n",
              "    <path d=\"M0 0h24v24H0V0z\" fill=\"none\"/>\n",
              "    <path d=\"M18.56 5.44l.94 2.06.94-2.06 2.06-.94-2.06-.94-.94-2.06-.94 2.06-2.06.94zm-11 1L8.5 8.5l.94-2.06 2.06-.94-2.06-.94L8.5 2.5l-.94 2.06-2.06.94zm10 10l.94 2.06.94-2.06 2.06-.94-2.06-.94-.94-2.06-.94 2.06-2.06.94z\"/><path d=\"M17.41 7.96l-1.37-1.37c-.4-.4-.92-.59-1.43-.59-.52 0-1.04.2-1.43.59L10.3 9.45l-7.72 7.72c-.78.78-.78 2.05 0 2.83L4 21.41c.39.39.9.59 1.41.59.51 0 1.02-.2 1.41-.59l7.78-7.78 2.81-2.81c.8-.78.8-2.07 0-2.86zM5.41 20L4 18.59l7.72-7.72 1.47 1.35L5.41 20z\"/>\n",
              "  </svg>\n",
              "      </button>\n",
              "      \n",
              "  <style>\n",
              "    .colab-df-container {\n",
              "      display:flex;\n",
              "      flex-wrap:wrap;\n",
              "      gap: 12px;\n",
              "    }\n",
              "\n",
              "    .colab-df-convert {\n",
              "      background-color: #E8F0FE;\n",
              "      border: none;\n",
              "      border-radius: 50%;\n",
              "      cursor: pointer;\n",
              "      display: none;\n",
              "      fill: #1967D2;\n",
              "      height: 32px;\n",
              "      padding: 0 0 0 0;\n",
              "      width: 32px;\n",
              "    }\n",
              "\n",
              "    .colab-df-convert:hover {\n",
              "      background-color: #E2EBFA;\n",
              "      box-shadow: 0px 1px 2px rgba(60, 64, 67, 0.3), 0px 1px 3px 1px rgba(60, 64, 67, 0.15);\n",
              "      fill: #174EA6;\n",
              "    }\n",
              "\n",
              "    [theme=dark] .colab-df-convert {\n",
              "      background-color: #3B4455;\n",
              "      fill: #D2E3FC;\n",
              "    }\n",
              "\n",
              "    [theme=dark] .colab-df-convert:hover {\n",
              "      background-color: #434B5C;\n",
              "      box-shadow: 0px 1px 3px 1px rgba(0, 0, 0, 0.15);\n",
              "      filter: drop-shadow(0px 1px 2px rgba(0, 0, 0, 0.3));\n",
              "      fill: #FFFFFF;\n",
              "    }\n",
              "  </style>\n",
              "\n",
              "      <script>\n",
              "        const buttonEl =\n",
              "          document.querySelector('#df-17c60065-abf2-4d19-af4e-9938c3de9d0a button.colab-df-convert');\n",
              "        buttonEl.style.display =\n",
              "          google.colab.kernel.accessAllowed ? 'block' : 'none';\n",
              "\n",
              "        async function convertToInteractive(key) {\n",
              "          const element = document.querySelector('#df-17c60065-abf2-4d19-af4e-9938c3de9d0a');\n",
              "          const dataTable =\n",
              "            await google.colab.kernel.invokeFunction('convertToInteractive',\n",
              "                                                     [key], {});\n",
              "          if (!dataTable) return;\n",
              "\n",
              "          const docLinkHtml = 'Like what you see? Visit the ' +\n",
              "            '<a target=\"_blank\" href=https://colab.research.google.com/notebooks/data_table.ipynb>data table notebook</a>'\n",
              "            + ' to learn more about interactive tables.';\n",
              "          element.innerHTML = '';\n",
              "          dataTable['output_type'] = 'display_data';\n",
              "          await google.colab.output.renderOutput(dataTable, element);\n",
              "          const docLink = document.createElement('div');\n",
              "          docLink.innerHTML = docLinkHtml;\n",
              "          element.appendChild(docLink);\n",
              "        }\n",
              "      </script>\n",
              "    </div>\n",
              "  </div>\n",
              "  "
            ]
          },
          "metadata": {},
          "execution_count": 99
        },
        {
          "output_type": "stream",
          "name": "stdout",
          "text": [
            "time: 91.5 ms (started: 2022-04-09 02:31:31 +00:00)\n"
          ]
        }
      ]
    },
    {
      "cell_type": "code",
      "source": [
        "num_cats = ['Postcode']  # Convert numeric variables to categorical\n",
        "\n",
        "for colname in num_cats:\n",
        "    df[colname] = df[colname].astype('category')   \n",
        "\n",
        "\n",
        "df.info()"
      ],
      "metadata": {
        "colab": {
          "base_uri": "https://localhost:8080/"
        },
        "id": "G7mi6XNUbo-Z",
        "outputId": "a99d0567-61f9-4097-abd1-2a3aadaaa0f1"
      },
      "execution_count": null,
      "outputs": [
        {
          "output_type": "stream",
          "name": "stdout",
          "text": [
            "<class 'pandas.core.frame.DataFrame'>\n",
            "RangeIndex: 34857 entries, 0 to 34856\n",
            "Data columns (total 21 columns):\n",
            " #   Column         Non-Null Count  Dtype         \n",
            "---  ------         --------------  -----         \n",
            " 0   Suburb         34857 non-null  category      \n",
            " 1   Address        34857 non-null  category      \n",
            " 2   Rooms          34857 non-null  int64         \n",
            " 3   Type           34857 non-null  category      \n",
            " 4   Price          27247 non-null  float64       \n",
            " 5   Method         34857 non-null  category      \n",
            " 6   SellerG        34857 non-null  category      \n",
            " 7   Date           34857 non-null  datetime64[ns]\n",
            " 8   Distance       34856 non-null  float64       \n",
            " 9   Postcode       34856 non-null  category      \n",
            " 10  Bedroom2       26640 non-null  float64       \n",
            " 11  Bathroom       26631 non-null  float64       \n",
            " 12  Car            26129 non-null  float64       \n",
            " 13  Landsize       23047 non-null  float64       \n",
            " 14  BuildingArea   13742 non-null  float64       \n",
            " 15  YearBuilt      15551 non-null  float64       \n",
            " 16  CouncilArea    34854 non-null  category      \n",
            " 17  Lattitude      26881 non-null  float64       \n",
            " 18  Longtitude     26881 non-null  float64       \n",
            " 19  Regionname     34854 non-null  category      \n",
            " 20  Propertycount  34854 non-null  float64       \n",
            "dtypes: category(8), datetime64[ns](1), float64(11), int64(1)\n",
            "memory usage: 5.2 MB\n",
            "time: 25.4 ms (started: 2022-04-09 02:31:31 +00:00)\n"
          ]
        }
      ]
    },
    {
      "cell_type": "code",
      "source": [
        "df['Rooms v Bedroom2'] = df['Rooms'] - df['Bedroom2']\n"
      ],
      "metadata": {
        "id": "KB6nQLSIb1P-",
        "colab": {
          "base_uri": "https://localhost:8080/"
        },
        "outputId": "a66efff8-a4a5-4bae-fd84-3ebe91afddec"
      },
      "execution_count": null,
      "outputs": [
        {
          "output_type": "stream",
          "name": "stdout",
          "text": [
            "time: 2.33 ms (started: 2022-04-09 02:31:31 +00:00)\n"
          ]
        }
      ]
    },
    {
      "cell_type": "code",
      "source": [
        "df"
      ],
      "metadata": {
        "colab": {
          "base_uri": "https://localhost:8080/",
          "height": 730
        },
        "id": "cGRzhr8YcGdW",
        "outputId": "cf5057c8-20c6-4b6b-9279-87750a89bf60"
      },
      "execution_count": null,
      "outputs": [
        {
          "output_type": "execute_result",
          "data": {
            "text/plain": [
              "           Suburb             Address  Rooms Type      Price Method  \\\n",
              "0      Abbotsford       68 Studley St      2    h        NaN     SS   \n",
              "1      Abbotsford        85 Turner St      2    h  1480000.0      S   \n",
              "2      Abbotsford     25 Bloomburg St      2    h  1035000.0      S   \n",
              "3      Abbotsford  18/659 Victoria St      3    u        NaN     VB   \n",
              "4      Abbotsford        5 Charles St      3    h  1465000.0     SP   \n",
              "...           ...                 ...    ...  ...        ...    ...   \n",
              "34852  Yarraville         13 Burns St      4    h  1480000.0     PI   \n",
              "34853  Yarraville       29A Murray St      2    h   888000.0     SP   \n",
              "34854  Yarraville      147A Severn St      2    t   705000.0      S   \n",
              "34855  Yarraville    12/37 Stephen St      3    h  1140000.0     SP   \n",
              "34856  Yarraville    3 Tarrengower St      2    h  1020000.0     PI   \n",
              "\n",
              "             SellerG       Date  Distance Postcode  ...  Car  Landsize  \\\n",
              "0             Jellis 2016-03-09       2.5   3067.0  ...  1.0     126.0   \n",
              "1             Biggin 2016-03-12       2.5   3067.0  ...  1.0     202.0   \n",
              "2             Biggin 2016-04-02       2.5   3067.0  ...  0.0     156.0   \n",
              "3             Rounds 2016-04-02       2.5   3067.0  ...  1.0       0.0   \n",
              "4             Biggin 2017-04-03       2.5   3067.0  ...  0.0     134.0   \n",
              "...              ...        ...       ...      ...  ...  ...       ...   \n",
              "34852            Jas 2018-02-24       6.3   3013.0  ...  3.0     593.0   \n",
              "34853        Sweeney 2018-02-24       6.3   3013.0  ...  1.0      98.0   \n",
              "34854            Jas 2018-02-24       6.3   3013.0  ...  2.0     220.0   \n",
              "34855  hockingstuart 2018-02-24       6.3   3013.0  ...  NaN       NaN   \n",
              "34856             RW 2018-02-24       6.3   3013.0  ...  0.0     250.0   \n",
              "\n",
              "       BuildingArea  YearBuilt               CouncilArea  Lattitude  \\\n",
              "0               NaN        NaN        Yarra City Council  -37.80140   \n",
              "1               NaN        NaN        Yarra City Council  -37.79960   \n",
              "2              79.0     1900.0        Yarra City Council  -37.80790   \n",
              "3               NaN        NaN        Yarra City Council  -37.81140   \n",
              "4             150.0     1900.0        Yarra City Council  -37.80930   \n",
              "...             ...        ...                       ...        ...   \n",
              "34852           NaN        NaN  Maribyrnong City Council  -37.81053   \n",
              "34853         104.0     2018.0  Maribyrnong City Council  -37.81551   \n",
              "34854         120.0     2000.0  Maribyrnong City Council  -37.82286   \n",
              "34855           NaN        NaN  Maribyrnong City Council        NaN   \n",
              "34856         103.0     1930.0  Maribyrnong City Council  -37.81810   \n",
              "\n",
              "      Longtitude             Regionname  Propertycount Rooms v Bedroom2  \n",
              "0      144.99580  Northern Metropolitan         4019.0              0.0  \n",
              "1      144.99840  Northern Metropolitan         4019.0              0.0  \n",
              "2      144.99340  Northern Metropolitan         4019.0              0.0  \n",
              "3      145.01160  Northern Metropolitan         4019.0              0.0  \n",
              "4      144.99440  Northern Metropolitan         4019.0              0.0  \n",
              "...          ...                    ...            ...              ...  \n",
              "34852  144.88467   Western Metropolitan         6543.0              0.0  \n",
              "34853  144.88826   Western Metropolitan         6543.0              0.0  \n",
              "34854  144.87856   Western Metropolitan         6543.0              0.0  \n",
              "34855        NaN   Western Metropolitan         6543.0              NaN  \n",
              "34856  144.89351   Western Metropolitan         6543.0              0.0  \n",
              "\n",
              "[34857 rows x 22 columns]"
            ],
            "text/html": [
              "\n",
              "  <div id=\"df-36a5e3c0-efff-4d1b-af24-886e6e7902ad\">\n",
              "    <div class=\"colab-df-container\">\n",
              "      <div>\n",
              "<style scoped>\n",
              "    .dataframe tbody tr th:only-of-type {\n",
              "        vertical-align: middle;\n",
              "    }\n",
              "\n",
              "    .dataframe tbody tr th {\n",
              "        vertical-align: top;\n",
              "    }\n",
              "\n",
              "    .dataframe thead th {\n",
              "        text-align: right;\n",
              "    }\n",
              "</style>\n",
              "<table border=\"1\" class=\"dataframe\">\n",
              "  <thead>\n",
              "    <tr style=\"text-align: right;\">\n",
              "      <th></th>\n",
              "      <th>Suburb</th>\n",
              "      <th>Address</th>\n",
              "      <th>Rooms</th>\n",
              "      <th>Type</th>\n",
              "      <th>Price</th>\n",
              "      <th>Method</th>\n",
              "      <th>SellerG</th>\n",
              "      <th>Date</th>\n",
              "      <th>Distance</th>\n",
              "      <th>Postcode</th>\n",
              "      <th>...</th>\n",
              "      <th>Car</th>\n",
              "      <th>Landsize</th>\n",
              "      <th>BuildingArea</th>\n",
              "      <th>YearBuilt</th>\n",
              "      <th>CouncilArea</th>\n",
              "      <th>Lattitude</th>\n",
              "      <th>Longtitude</th>\n",
              "      <th>Regionname</th>\n",
              "      <th>Propertycount</th>\n",
              "      <th>Rooms v Bedroom2</th>\n",
              "    </tr>\n",
              "  </thead>\n",
              "  <tbody>\n",
              "    <tr>\n",
              "      <th>0</th>\n",
              "      <td>Abbotsford</td>\n",
              "      <td>68 Studley St</td>\n",
              "      <td>2</td>\n",
              "      <td>h</td>\n",
              "      <td>NaN</td>\n",
              "      <td>SS</td>\n",
              "      <td>Jellis</td>\n",
              "      <td>2016-03-09</td>\n",
              "      <td>2.5</td>\n",
              "      <td>3067.0</td>\n",
              "      <td>...</td>\n",
              "      <td>1.0</td>\n",
              "      <td>126.0</td>\n",
              "      <td>NaN</td>\n",
              "      <td>NaN</td>\n",
              "      <td>Yarra City Council</td>\n",
              "      <td>-37.80140</td>\n",
              "      <td>144.99580</td>\n",
              "      <td>Northern Metropolitan</td>\n",
              "      <td>4019.0</td>\n",
              "      <td>0.0</td>\n",
              "    </tr>\n",
              "    <tr>\n",
              "      <th>1</th>\n",
              "      <td>Abbotsford</td>\n",
              "      <td>85 Turner St</td>\n",
              "      <td>2</td>\n",
              "      <td>h</td>\n",
              "      <td>1480000.0</td>\n",
              "      <td>S</td>\n",
              "      <td>Biggin</td>\n",
              "      <td>2016-03-12</td>\n",
              "      <td>2.5</td>\n",
              "      <td>3067.0</td>\n",
              "      <td>...</td>\n",
              "      <td>1.0</td>\n",
              "      <td>202.0</td>\n",
              "      <td>NaN</td>\n",
              "      <td>NaN</td>\n",
              "      <td>Yarra City Council</td>\n",
              "      <td>-37.79960</td>\n",
              "      <td>144.99840</td>\n",
              "      <td>Northern Metropolitan</td>\n",
              "      <td>4019.0</td>\n",
              "      <td>0.0</td>\n",
              "    </tr>\n",
              "    <tr>\n",
              "      <th>2</th>\n",
              "      <td>Abbotsford</td>\n",
              "      <td>25 Bloomburg St</td>\n",
              "      <td>2</td>\n",
              "      <td>h</td>\n",
              "      <td>1035000.0</td>\n",
              "      <td>S</td>\n",
              "      <td>Biggin</td>\n",
              "      <td>2016-04-02</td>\n",
              "      <td>2.5</td>\n",
              "      <td>3067.0</td>\n",
              "      <td>...</td>\n",
              "      <td>0.0</td>\n",
              "      <td>156.0</td>\n",
              "      <td>79.0</td>\n",
              "      <td>1900.0</td>\n",
              "      <td>Yarra City Council</td>\n",
              "      <td>-37.80790</td>\n",
              "      <td>144.99340</td>\n",
              "      <td>Northern Metropolitan</td>\n",
              "      <td>4019.0</td>\n",
              "      <td>0.0</td>\n",
              "    </tr>\n",
              "    <tr>\n",
              "      <th>3</th>\n",
              "      <td>Abbotsford</td>\n",
              "      <td>18/659 Victoria St</td>\n",
              "      <td>3</td>\n",
              "      <td>u</td>\n",
              "      <td>NaN</td>\n",
              "      <td>VB</td>\n",
              "      <td>Rounds</td>\n",
              "      <td>2016-04-02</td>\n",
              "      <td>2.5</td>\n",
              "      <td>3067.0</td>\n",
              "      <td>...</td>\n",
              "      <td>1.0</td>\n",
              "      <td>0.0</td>\n",
              "      <td>NaN</td>\n",
              "      <td>NaN</td>\n",
              "      <td>Yarra City Council</td>\n",
              "      <td>-37.81140</td>\n",
              "      <td>145.01160</td>\n",
              "      <td>Northern Metropolitan</td>\n",
              "      <td>4019.0</td>\n",
              "      <td>0.0</td>\n",
              "    </tr>\n",
              "    <tr>\n",
              "      <th>4</th>\n",
              "      <td>Abbotsford</td>\n",
              "      <td>5 Charles St</td>\n",
              "      <td>3</td>\n",
              "      <td>h</td>\n",
              "      <td>1465000.0</td>\n",
              "      <td>SP</td>\n",
              "      <td>Biggin</td>\n",
              "      <td>2017-04-03</td>\n",
              "      <td>2.5</td>\n",
              "      <td>3067.0</td>\n",
              "      <td>...</td>\n",
              "      <td>0.0</td>\n",
              "      <td>134.0</td>\n",
              "      <td>150.0</td>\n",
              "      <td>1900.0</td>\n",
              "      <td>Yarra City Council</td>\n",
              "      <td>-37.80930</td>\n",
              "      <td>144.99440</td>\n",
              "      <td>Northern Metropolitan</td>\n",
              "      <td>4019.0</td>\n",
              "      <td>0.0</td>\n",
              "    </tr>\n",
              "    <tr>\n",
              "      <th>...</th>\n",
              "      <td>...</td>\n",
              "      <td>...</td>\n",
              "      <td>...</td>\n",
              "      <td>...</td>\n",
              "      <td>...</td>\n",
              "      <td>...</td>\n",
              "      <td>...</td>\n",
              "      <td>...</td>\n",
              "      <td>...</td>\n",
              "      <td>...</td>\n",
              "      <td>...</td>\n",
              "      <td>...</td>\n",
              "      <td>...</td>\n",
              "      <td>...</td>\n",
              "      <td>...</td>\n",
              "      <td>...</td>\n",
              "      <td>...</td>\n",
              "      <td>...</td>\n",
              "      <td>...</td>\n",
              "      <td>...</td>\n",
              "      <td>...</td>\n",
              "    </tr>\n",
              "    <tr>\n",
              "      <th>34852</th>\n",
              "      <td>Yarraville</td>\n",
              "      <td>13 Burns St</td>\n",
              "      <td>4</td>\n",
              "      <td>h</td>\n",
              "      <td>1480000.0</td>\n",
              "      <td>PI</td>\n",
              "      <td>Jas</td>\n",
              "      <td>2018-02-24</td>\n",
              "      <td>6.3</td>\n",
              "      <td>3013.0</td>\n",
              "      <td>...</td>\n",
              "      <td>3.0</td>\n",
              "      <td>593.0</td>\n",
              "      <td>NaN</td>\n",
              "      <td>NaN</td>\n",
              "      <td>Maribyrnong City Council</td>\n",
              "      <td>-37.81053</td>\n",
              "      <td>144.88467</td>\n",
              "      <td>Western Metropolitan</td>\n",
              "      <td>6543.0</td>\n",
              "      <td>0.0</td>\n",
              "    </tr>\n",
              "    <tr>\n",
              "      <th>34853</th>\n",
              "      <td>Yarraville</td>\n",
              "      <td>29A Murray St</td>\n",
              "      <td>2</td>\n",
              "      <td>h</td>\n",
              "      <td>888000.0</td>\n",
              "      <td>SP</td>\n",
              "      <td>Sweeney</td>\n",
              "      <td>2018-02-24</td>\n",
              "      <td>6.3</td>\n",
              "      <td>3013.0</td>\n",
              "      <td>...</td>\n",
              "      <td>1.0</td>\n",
              "      <td>98.0</td>\n",
              "      <td>104.0</td>\n",
              "      <td>2018.0</td>\n",
              "      <td>Maribyrnong City Council</td>\n",
              "      <td>-37.81551</td>\n",
              "      <td>144.88826</td>\n",
              "      <td>Western Metropolitan</td>\n",
              "      <td>6543.0</td>\n",
              "      <td>0.0</td>\n",
              "    </tr>\n",
              "    <tr>\n",
              "      <th>34854</th>\n",
              "      <td>Yarraville</td>\n",
              "      <td>147A Severn St</td>\n",
              "      <td>2</td>\n",
              "      <td>t</td>\n",
              "      <td>705000.0</td>\n",
              "      <td>S</td>\n",
              "      <td>Jas</td>\n",
              "      <td>2018-02-24</td>\n",
              "      <td>6.3</td>\n",
              "      <td>3013.0</td>\n",
              "      <td>...</td>\n",
              "      <td>2.0</td>\n",
              "      <td>220.0</td>\n",
              "      <td>120.0</td>\n",
              "      <td>2000.0</td>\n",
              "      <td>Maribyrnong City Council</td>\n",
              "      <td>-37.82286</td>\n",
              "      <td>144.87856</td>\n",
              "      <td>Western Metropolitan</td>\n",
              "      <td>6543.0</td>\n",
              "      <td>0.0</td>\n",
              "    </tr>\n",
              "    <tr>\n",
              "      <th>34855</th>\n",
              "      <td>Yarraville</td>\n",
              "      <td>12/37 Stephen St</td>\n",
              "      <td>3</td>\n",
              "      <td>h</td>\n",
              "      <td>1140000.0</td>\n",
              "      <td>SP</td>\n",
              "      <td>hockingstuart</td>\n",
              "      <td>2018-02-24</td>\n",
              "      <td>6.3</td>\n",
              "      <td>3013.0</td>\n",
              "      <td>...</td>\n",
              "      <td>NaN</td>\n",
              "      <td>NaN</td>\n",
              "      <td>NaN</td>\n",
              "      <td>NaN</td>\n",
              "      <td>Maribyrnong City Council</td>\n",
              "      <td>NaN</td>\n",
              "      <td>NaN</td>\n",
              "      <td>Western Metropolitan</td>\n",
              "      <td>6543.0</td>\n",
              "      <td>NaN</td>\n",
              "    </tr>\n",
              "    <tr>\n",
              "      <th>34856</th>\n",
              "      <td>Yarraville</td>\n",
              "      <td>3 Tarrengower St</td>\n",
              "      <td>2</td>\n",
              "      <td>h</td>\n",
              "      <td>1020000.0</td>\n",
              "      <td>PI</td>\n",
              "      <td>RW</td>\n",
              "      <td>2018-02-24</td>\n",
              "      <td>6.3</td>\n",
              "      <td>3013.0</td>\n",
              "      <td>...</td>\n",
              "      <td>0.0</td>\n",
              "      <td>250.0</td>\n",
              "      <td>103.0</td>\n",
              "      <td>1930.0</td>\n",
              "      <td>Maribyrnong City Council</td>\n",
              "      <td>-37.81810</td>\n",
              "      <td>144.89351</td>\n",
              "      <td>Western Metropolitan</td>\n",
              "      <td>6543.0</td>\n",
              "      <td>0.0</td>\n",
              "    </tr>\n",
              "  </tbody>\n",
              "</table>\n",
              "<p>34857 rows × 22 columns</p>\n",
              "</div>\n",
              "      <button class=\"colab-df-convert\" onclick=\"convertToInteractive('df-36a5e3c0-efff-4d1b-af24-886e6e7902ad')\"\n",
              "              title=\"Convert this dataframe to an interactive table.\"\n",
              "              style=\"display:none;\">\n",
              "        \n",
              "  <svg xmlns=\"http://www.w3.org/2000/svg\" height=\"24px\"viewBox=\"0 0 24 24\"\n",
              "       width=\"24px\">\n",
              "    <path d=\"M0 0h24v24H0V0z\" fill=\"none\"/>\n",
              "    <path d=\"M18.56 5.44l.94 2.06.94-2.06 2.06-.94-2.06-.94-.94-2.06-.94 2.06-2.06.94zm-11 1L8.5 8.5l.94-2.06 2.06-.94-2.06-.94L8.5 2.5l-.94 2.06-2.06.94zm10 10l.94 2.06.94-2.06 2.06-.94-2.06-.94-.94-2.06-.94 2.06-2.06.94z\"/><path d=\"M17.41 7.96l-1.37-1.37c-.4-.4-.92-.59-1.43-.59-.52 0-1.04.2-1.43.59L10.3 9.45l-7.72 7.72c-.78.78-.78 2.05 0 2.83L4 21.41c.39.39.9.59 1.41.59.51 0 1.02-.2 1.41-.59l7.78-7.78 2.81-2.81c.8-.78.8-2.07 0-2.86zM5.41 20L4 18.59l7.72-7.72 1.47 1.35L5.41 20z\"/>\n",
              "  </svg>\n",
              "      </button>\n",
              "      \n",
              "  <style>\n",
              "    .colab-df-container {\n",
              "      display:flex;\n",
              "      flex-wrap:wrap;\n",
              "      gap: 12px;\n",
              "    }\n",
              "\n",
              "    .colab-df-convert {\n",
              "      background-color: #E8F0FE;\n",
              "      border: none;\n",
              "      border-radius: 50%;\n",
              "      cursor: pointer;\n",
              "      display: none;\n",
              "      fill: #1967D2;\n",
              "      height: 32px;\n",
              "      padding: 0 0 0 0;\n",
              "      width: 32px;\n",
              "    }\n",
              "\n",
              "    .colab-df-convert:hover {\n",
              "      background-color: #E2EBFA;\n",
              "      box-shadow: 0px 1px 2px rgba(60, 64, 67, 0.3), 0px 1px 3px 1px rgba(60, 64, 67, 0.15);\n",
              "      fill: #174EA6;\n",
              "    }\n",
              "\n",
              "    [theme=dark] .colab-df-convert {\n",
              "      background-color: #3B4455;\n",
              "      fill: #D2E3FC;\n",
              "    }\n",
              "\n",
              "    [theme=dark] .colab-df-convert:hover {\n",
              "      background-color: #434B5C;\n",
              "      box-shadow: 0px 1px 3px 1px rgba(0, 0, 0, 0.15);\n",
              "      filter: drop-shadow(0px 1px 2px rgba(0, 0, 0, 0.3));\n",
              "      fill: #FFFFFF;\n",
              "    }\n",
              "  </style>\n",
              "\n",
              "      <script>\n",
              "        const buttonEl =\n",
              "          document.querySelector('#df-36a5e3c0-efff-4d1b-af24-886e6e7902ad button.colab-df-convert');\n",
              "        buttonEl.style.display =\n",
              "          google.colab.kernel.accessAllowed ? 'block' : 'none';\n",
              "\n",
              "        async function convertToInteractive(key) {\n",
              "          const element = document.querySelector('#df-36a5e3c0-efff-4d1b-af24-886e6e7902ad');\n",
              "          const dataTable =\n",
              "            await google.colab.kernel.invokeFunction('convertToInteractive',\n",
              "                                                     [key], {});\n",
              "          if (!dataTable) return;\n",
              "\n",
              "          const docLinkHtml = 'Like what you see? Visit the ' +\n",
              "            '<a target=\"_blank\" href=https://colab.research.google.com/notebooks/data_table.ipynb>data table notebook</a>'\n",
              "            + ' to learn more about interactive tables.';\n",
              "          element.innerHTML = '';\n",
              "          dataTable['output_type'] = 'display_data';\n",
              "          await google.colab.output.renderOutput(dataTable, element);\n",
              "          const docLink = document.createElement('div');\n",
              "          docLink.innerHTML = docLinkHtml;\n",
              "          element.appendChild(docLink);\n",
              "        }\n",
              "      </script>\n",
              "    </div>\n",
              "  </div>\n",
              "  "
            ]
          },
          "metadata": {},
          "execution_count": 102
        },
        {
          "output_type": "stream",
          "name": "stdout",
          "text": [
            "time: 64.8 ms (started: 2022-04-09 02:31:31 +00:00)\n"
          ]
        }
      ]
    },
    {
      "cell_type": "code",
      "source": [
        "df= df.drop(['Bedroom2','Rooms v Bedroom2'],1)\n"
      ],
      "metadata": {
        "colab": {
          "base_uri": "https://localhost:8080/"
        },
        "id": "7AuQNd59cI87",
        "outputId": "2ab0548e-c9f2-4010-9610-76256ad037af"
      },
      "execution_count": null,
      "outputs": [
        {
          "output_type": "stream",
          "name": "stdout",
          "text": [
            "time: 9.69 ms (started: 2022-04-09 02:31:31 +00:00)\n"
          ]
        }
      ]
    },
    {
      "cell_type": "code",
      "source": [
        "# Add age variable\n",
        "df['Age'] = 2017 - df['YearBuilt']\n",
        "\n",
        "# Identify historic homes\n",
        "df['Historic'] = np.where(df['Age']>=50,'Historic','Contemporary')\n",
        "\n",
        "# Convert to Category\n",
        "df['Historic'] = df['Historic'].astype('category')"
      ],
      "metadata": {
        "id": "X1ltTLmEcQ1G",
        "colab": {
          "base_uri": "https://localhost:8080/"
        },
        "outputId": "7a139976-de9d-4ab3-eb42-7589d6274b85"
      },
      "execution_count": null,
      "outputs": [
        {
          "output_type": "stream",
          "name": "stdout",
          "text": [
            "time: 20.2 ms (started: 2022-04-09 02:31:31 +00:00)\n"
          ]
        }
      ]
    },
    {
      "cell_type": "code",
      "source": [
        "df.info()"
      ],
      "metadata": {
        "colab": {
          "base_uri": "https://localhost:8080/"
        },
        "id": "NA5PD7eiculm",
        "outputId": "2a8965b8-44f7-4f31-b186-1d2f1f61b1a5"
      },
      "execution_count": null,
      "outputs": [
        {
          "output_type": "stream",
          "name": "stdout",
          "text": [
            "<class 'pandas.core.frame.DataFrame'>\n",
            "RangeIndex: 34857 entries, 0 to 34856\n",
            "Data columns (total 22 columns):\n",
            " #   Column         Non-Null Count  Dtype         \n",
            "---  ------         --------------  -----         \n",
            " 0   Suburb         34857 non-null  category      \n",
            " 1   Address        34857 non-null  category      \n",
            " 2   Rooms          34857 non-null  int64         \n",
            " 3   Type           34857 non-null  category      \n",
            " 4   Price          27247 non-null  float64       \n",
            " 5   Method         34857 non-null  category      \n",
            " 6   SellerG        34857 non-null  category      \n",
            " 7   Date           34857 non-null  datetime64[ns]\n",
            " 8   Distance       34856 non-null  float64       \n",
            " 9   Postcode       34856 non-null  category      \n",
            " 10  Bathroom       26631 non-null  float64       \n",
            " 11  Car            26129 non-null  float64       \n",
            " 12  Landsize       23047 non-null  float64       \n",
            " 13  BuildingArea   13742 non-null  float64       \n",
            " 14  YearBuilt      15551 non-null  float64       \n",
            " 15  CouncilArea    34854 non-null  category      \n",
            " 16  Lattitude      26881 non-null  float64       \n",
            " 17  Longtitude     26881 non-null  float64       \n",
            " 18  Regionname     34854 non-null  category      \n",
            " 19  Propertycount  34854 non-null  float64       \n",
            " 20  Age            15551 non-null  float64       \n",
            " 21  Historic       34857 non-null  category      \n",
            "dtypes: category(9), datetime64[ns](1), float64(11), int64(1)\n",
            "memory usage: 5.3 MB\n",
            "time: 22.5 ms (started: 2022-04-09 02:31:31 +00:00)\n"
          ]
        }
      ]
    },
    {
      "cell_type": "code",
      "source": [
        "df.isnull().sum()\n"
      ],
      "metadata": {
        "colab": {
          "base_uri": "https://localhost:8080/"
        },
        "id": "Plkuct1Ic4Mw",
        "outputId": "9319f4a3-3434-426f-cedd-72a55a8e07ac"
      },
      "execution_count": null,
      "outputs": [
        {
          "output_type": "execute_result",
          "data": {
            "text/plain": [
              "Suburb               0\n",
              "Address              0\n",
              "Rooms                0\n",
              "Type                 0\n",
              "Price             7610\n",
              "Method               0\n",
              "SellerG              0\n",
              "Date                 0\n",
              "Distance             1\n",
              "Postcode             1\n",
              "Bathroom          8226\n",
              "Car               8728\n",
              "Landsize         11810\n",
              "BuildingArea     21115\n",
              "YearBuilt        19306\n",
              "CouncilArea          3\n",
              "Lattitude         7976\n",
              "Longtitude        7976\n",
              "Regionname           3\n",
              "Propertycount        3\n",
              "Age              19306\n",
              "Historic             0\n",
              "dtype: int64"
            ]
          },
          "metadata": {},
          "execution_count": 106
        },
        {
          "output_type": "stream",
          "name": "stdout",
          "text": [
            "time: 14.9 ms (started: 2022-04-09 02:31:31 +00:00)\n"
          ]
        }
      ]
    },
    {
      "cell_type": "code",
      "source": [
        "df.isnull().sum()/len(df)*100"
      ],
      "metadata": {
        "colab": {
          "base_uri": "https://localhost:8080/"
        },
        "id": "2dJ3pj3qc94p",
        "outputId": "52f440e8-ceec-4648-8c78-8e7c61eabc30"
      },
      "execution_count": null,
      "outputs": [
        {
          "output_type": "execute_result",
          "data": {
            "text/plain": [
              "Suburb            0.000000\n",
              "Address           0.000000\n",
              "Rooms             0.000000\n",
              "Type              0.000000\n",
              "Price            21.832057\n",
              "Method            0.000000\n",
              "SellerG           0.000000\n",
              "Date              0.000000\n",
              "Distance          0.002869\n",
              "Postcode          0.002869\n",
              "Bathroom         23.599277\n",
              "Car              25.039447\n",
              "Landsize         33.881286\n",
              "BuildingArea     60.576068\n",
              "YearBuilt        55.386293\n",
              "CouncilArea       0.008607\n",
              "Lattitude        22.882061\n",
              "Longtitude       22.882061\n",
              "Regionname        0.008607\n",
              "Propertycount     0.008607\n",
              "Age              55.386293\n",
              "Historic          0.000000\n",
              "dtype: float64"
            ]
          },
          "metadata": {},
          "execution_count": 107
        },
        {
          "output_type": "stream",
          "name": "stdout",
          "text": [
            "time: 13.7 ms (started: 2022-04-09 02:31:31 +00:00)\n"
          ]
        }
      ]
    },
    {
      "cell_type": "code",
      "source": [
        "df = df.dropna()"
      ],
      "metadata": {
        "id": "ujOyF9QPdFin",
        "colab": {
          "base_uri": "https://localhost:8080/"
        },
        "outputId": "4870f066-ab23-4380-e9b7-ee0cd2bec0eb"
      },
      "execution_count": null,
      "outputs": [
        {
          "output_type": "stream",
          "name": "stdout",
          "text": [
            "time: 13.7 ms (started: 2022-04-09 02:31:31 +00:00)\n"
          ]
        }
      ]
    },
    {
      "cell_type": "code",
      "source": [
        "df.info()\n"
      ],
      "metadata": {
        "colab": {
          "base_uri": "https://localhost:8080/"
        },
        "id": "W6sDlBW4dTN0",
        "outputId": "abc45ee7-bc22-4f83-a92f-f8ab526811b8"
      },
      "execution_count": null,
      "outputs": [
        {
          "output_type": "stream",
          "name": "stdout",
          "text": [
            "<class 'pandas.core.frame.DataFrame'>\n",
            "Int64Index: 8887 entries, 2 to 34856\n",
            "Data columns (total 22 columns):\n",
            " #   Column         Non-Null Count  Dtype         \n",
            "---  ------         --------------  -----         \n",
            " 0   Suburb         8887 non-null   category      \n",
            " 1   Address        8887 non-null   category      \n",
            " 2   Rooms          8887 non-null   int64         \n",
            " 3   Type           8887 non-null   category      \n",
            " 4   Price          8887 non-null   float64       \n",
            " 5   Method         8887 non-null   category      \n",
            " 6   SellerG        8887 non-null   category      \n",
            " 7   Date           8887 non-null   datetime64[ns]\n",
            " 8   Distance       8887 non-null   float64       \n",
            " 9   Postcode       8887 non-null   category      \n",
            " 10  Bathroom       8887 non-null   float64       \n",
            " 11  Car            8887 non-null   float64       \n",
            " 12  Landsize       8887 non-null   float64       \n",
            " 13  BuildingArea   8887 non-null   float64       \n",
            " 14  YearBuilt      8887 non-null   float64       \n",
            " 15  CouncilArea    8887 non-null   category      \n",
            " 16  Lattitude      8887 non-null   float64       \n",
            " 17  Longtitude     8887 non-null   float64       \n",
            " 18  Regionname     8887 non-null   category      \n",
            " 19  Propertycount  8887 non-null   float64       \n",
            " 20  Age            8887 non-null   float64       \n",
            " 21  Historic       8887 non-null   category      \n",
            "dtypes: category(9), datetime64[ns](1), float64(11), int64(1)\n",
            "memory usage: 2.4 MB\n",
            "time: 20.9 ms (started: 2022-04-09 02:31:31 +00:00)\n"
          ]
        }
      ]
    },
    {
      "cell_type": "code",
      "source": [
        "df.isnull().sum()"
      ],
      "metadata": {
        "colab": {
          "base_uri": "https://localhost:8080/"
        },
        "id": "v1r5hrB8dWi0",
        "outputId": "513f7ad7-96c3-4bf6-e323-74c4185aaa2c"
      },
      "execution_count": null,
      "outputs": [
        {
          "output_type": "execute_result",
          "data": {
            "text/plain": [
              "Suburb           0\n",
              "Address          0\n",
              "Rooms            0\n",
              "Type             0\n",
              "Price            0\n",
              "Method           0\n",
              "SellerG          0\n",
              "Date             0\n",
              "Distance         0\n",
              "Postcode         0\n",
              "Bathroom         0\n",
              "Car              0\n",
              "Landsize         0\n",
              "BuildingArea     0\n",
              "YearBuilt        0\n",
              "CouncilArea      0\n",
              "Lattitude        0\n",
              "Longtitude       0\n",
              "Regionname       0\n",
              "Propertycount    0\n",
              "Age              0\n",
              "Historic         0\n",
              "dtype: int64"
            ]
          },
          "metadata": {},
          "execution_count": 110
        },
        {
          "output_type": "stream",
          "name": "stdout",
          "text": [
            "time: 11 ms (started: 2022-04-09 02:31:31 +00:00)\n"
          ]
        }
      ]
    },
    {
      "cell_type": "code",
      "source": [
        " # EDA"
      ],
      "metadata": {
        "id": "z8EKQunSeaNF",
        "colab": {
          "base_uri": "https://localhost:8080/"
        },
        "outputId": "aff8116c-f92c-422c-8e63-d1d19ba9e8a4"
      },
      "execution_count": null,
      "outputs": [
        {
          "output_type": "stream",
          "name": "stdout",
          "text": [
            "time: 843 µs (started: 2022-04-09 02:31:31 +00:00)\n"
          ]
        }
      ]
    },
    {
      "cell_type": "code",
      "source": [
        "import seaborn as sns\n",
        "import sklearn \n",
        "import matplotlib.pyplot as plt\n",
        "%matplotlib inline"
      ],
      "metadata": {
        "id": "l8mitURTew30",
        "colab": {
          "base_uri": "https://localhost:8080/"
        },
        "outputId": "857f63df-bb9b-4c9b-ebdc-524a62427c4d"
      },
      "execution_count": null,
      "outputs": [
        {
          "output_type": "stream",
          "name": "stdout",
          "text": [
            "time: 3.36 ms (started: 2022-04-09 02:31:31 +00:00)\n"
          ]
        }
      ]
    },
    {
      "cell_type": "code",
      "source": [
        ""
      ],
      "metadata": {
        "id": "UFMC6WX_ewxq"
      },
      "execution_count": null,
      "outputs": []
    },
    {
      "cell_type": "code",
      "source": [
        "plt.figure(figsize=(16,7))\n",
        "sns.distplot(df['Price'], kde = False,hist_kws=dict(edgecolor=\"k\"))"
      ],
      "metadata": {
        "colab": {
          "base_uri": "https://localhost:8080/",
          "height": 476
        },
        "id": "It6bQquhda0A",
        "outputId": "7ebd6468-b0d4-4647-d292-b5b447e35a41"
      },
      "execution_count": null,
      "outputs": [
        {
          "output_type": "execute_result",
          "data": {
            "text/plain": [
              "<matplotlib.axes._subplots.AxesSubplot at 0x7ff95cea5650>"
            ]
          },
          "metadata": {},
          "execution_count": 113
        },
        {
          "output_type": "display_data",
          "data": {
            "text/plain": [
              "<Figure size 1152x504 with 1 Axes>"
            ],
            "image/png": "[encoded data removed]"
          },
          "metadata": {
            "needs_background": "light"
          }
        },
        {
          "output_type": "stream",
          "name": "stdout",
          "text": [
            "time: 407 ms (started: 2022-04-09 02:31:31 +00:00)\n"
          ]
        }
      ]
    },
    {
      "cell_type": "code",
      "source": [
        "sns.set_style('darkgrid')\n",
        "f, axes = plt.subplots(2,2, figsize = (15,15))\n",
        "\n",
        "# Plot [0,0]\n",
        "sns.boxplot(data = df, x = 'Type', y = 'Price', ax = axes[0,0])\n",
        "axes[0,0].set_xlabel('Type')\n",
        "axes[0,0].set_ylabel('Price')\n",
        "axes[0,0].set_title('Type v Price')\n",
        "\n",
        "# Plot [0,1]\n",
        "sns.boxplot(x = 'Method', y = 'Price', data = df, ax = axes[0,1])\n",
        "axes[0,1].set_xlabel('Method')\n",
        "#axes[0,1].set_ylabel('Price')\n",
        "axes[0,1].set_title('Method v Price')\n",
        "\n",
        "# Plot [1,0]\n",
        "sns.boxplot(x = 'Regionname', y = 'Price', data = df, ax = axes[1,0])\n",
        "axes[1,0].set_xlabel('Regionname')\n",
        "#axes[1,0].set_ylabel('Price')\n",
        "axes[1,0].set_title('Region Name v Price')\n",
        "\n",
        "# Plot [1,1]\n",
        "sns.boxplot(x = 'Historic', y = 'Price', data = df, ax = axes[1,1])\n",
        "axes[1,1].set_xlabel('Historic')\n",
        "axes[1,1].set_ylabel('Price')\n",
        "axes[1,1].set_title('Historic v Price')\n",
        "\n",
        "plt.show()"
      ],
      "metadata": {
        "colab": {
          "base_uri": "https://localhost:8080/",
          "height": 910
        },
        "id": "iF67U_KJeqFY",
        "outputId": "cb924f92-b623-465e-8e65-7d39b57f9df9"
      },
      "execution_count": null,
      "outputs": [
        {
          "output_type": "display_data",
          "data": {
            "text/plain": [
              "<Figure size 1080x1080 with 4 Axes>"
            ],
            "image/png": "[encoded data removed]"
          },
          "metadata": {}
        },
        {
          "output_type": "stream",
          "name": "stdout",
          "text": [
            "time: 1.15 s (started: 2022-04-09 02:31:32 +00:00)\n"
          ]
        }
      ]
    },
    {
      "cell_type": "code",
      "source": [
        "df.select_dtypes(['float64','int64']).columns\n"
      ],
      "metadata": {
        "colab": {
          "base_uri": "https://localhost:8080/"
        },
        "id": "gqprfPALfQ2A",
        "outputId": "e4851dbf-d7c0-4975-fd32-c0afeeaf5823"
      },
      "execution_count": null,
      "outputs": [
        {
          "output_type": "execute_result",
          "data": {
            "text/plain": [
              "Index(['Rooms', 'Price', 'Distance', 'Bathroom', 'Car', 'Landsize',\n",
              "       'BuildingArea', 'YearBuilt', 'Lattitude', 'Longtitude', 'Propertycount',\n",
              "       'Age'],\n",
              "      dtype='object')"
            ]
          },
          "metadata": {},
          "execution_count": 115
        },
        {
          "output_type": "stream",
          "name": "stdout",
          "text": [
            "time: 7.3 ms (started: 2022-04-09 02:31:33 +00:00)\n"
          ]
        }
      ]
    },
    {
      "cell_type": "code",
      "source": [
        "sns.set_style('darkgrid')\n",
        "f, axes = plt.subplots(4,2, figsize = (20,30))\n",
        "\n",
        "# Plot [0,0]\n",
        "axes[0,0].scatter(x = 'Rooms', y = 'Price', data = df, edgecolor = 'b')\n",
        "axes[0,0].set_xlabel('Rooms')\n",
        "axes[0,0].set_ylabel('Price')\n",
        "axes[0,0].set_title('Rooms v Price')\n",
        "\n",
        "# Plot [0,1]\n",
        "axes[0,1].scatter(x = 'Distance', y = 'Price', data = df, edgecolor = 'b')\n",
        "axes[0,1].set_xlabel('Distance')\n",
        "# axes[0,1].set_ylabel('Price')\n",
        "axes[0,1].set_title('Distance v Price')\n",
        "\n",
        "# Plot [1,0]\n",
        "axes[1,0].scatter(x = 'Bathroom', y = 'Price', data = df, edgecolor = 'b')\n",
        "axes[1,0].set_xlabel('Bathroom')\n",
        "axes[1,0].set_ylabel('Price')\n",
        "axes[1,0].set_title('Bathroom v Price')\n",
        "\n",
        "# Plot [1,1]\n",
        "axes[1,1].scatter(x = 'Car', y = 'Price', data = df, edgecolor = 'b')\n",
        "axes[1,0].set_xlabel('Car')\n",
        "axes[1,1].set_ylabel('Price')\n",
        "axes[1,1].set_title('Car v Price')\n",
        "\n",
        "# Plot [2,0]\n",
        "axes[2,0].scatter(x = 'Landsize', y = 'Price', data = df, edgecolor = 'b')\n",
        "axes[2,0].set_xlabel('Landsize')\n",
        "axes[2,0].set_ylabel('Price')\n",
        "axes[2,0].set_title('Landsize v  Price')\n",
        "\n",
        "# Plot [2,1]\n",
        "axes[2,1].scatter(x = 'BuildingArea', y = 'Price', data = df, edgecolor = 'b')\n",
        "axes[2,1].set_xlabel('BuildingArea')\n",
        "axes[2,1].set_ylabel('BuildingArea')\n",
        "axes[2,1].set_title('BuildingArea v Price')\n",
        "\n",
        "axes[3,0].scatter(x = 'Age', y = 'Price', data = df, edgecolor = 'b')\n",
        "axes[3,0].set_xlabel('Age')\n",
        "axes[3,0].set_ylabel('Price')\n",
        "axes[3,0].set_ylabel('Age v Price')\n",
        "\n",
        "# Plot [3,1]\n",
        "axes[3,1].scatter(x = 'Propertycount', y = 'Price', data = df, edgecolor = 'b')\n",
        "axes[3,1].set_xlabel('Propertycount')\n",
        "#axes[3,1].set_ylabel('Price')\n",
        "axes[3,1].set_title('Property Count v Price')\n",
        "\n",
        "plt.show()"
      ],
      "metadata": {
        "colab": {
          "base_uri": "https://localhost:8080/",
          "height": 1000
        },
        "id": "qOQm_l6Yfcf6",
        "outputId": "150b0d42-1905-4cb2-b3e8-0a86438b8adb"
      },
      "execution_count": null,
      "outputs": [
        {
          "output_type": "display_data",
          "data": {
            "text/plain": [
              "<Figure size 1440x2160 with 8 Axes>"
            ],
            "image/png": "[encoded data removed]"
          },
          "metadata": {}
        },
        {
          "output_type": "stream",
          "name": "stdout",
          "text": [
            "time: 2.4 s (started: 2022-04-09 02:31:33 +00:00)\n"
          ]
        }
      ]
    },
    {
      "cell_type": "code",
      "source": [
        "plt.figure(figsize=(10,6))\n",
        "sns.heatmap(df.corr(),cmap = 'coolwarm',linewidth = 1,annot= True, annot_kws={\"size\": 9})\n",
        "plt.title('Variable Correlation')"
      ],
      "metadata": {
        "colab": {
          "base_uri": "https://localhost:8080/",
          "height": 484
        },
        "id": "_QTLJ93MfocF",
        "outputId": "09f23e60-3ef5-4136-dbe1-a5895f2507c9"
      },
      "execution_count": null,
      "outputs": [
        {
          "output_type": "execute_result",
          "data": {
            "text/plain": [
              "Text(0.5, 1.0, 'Variable Correlation')"
            ]
          },
          "metadata": {},
          "execution_count": 117
        },
        {
          "output_type": "display_data",
          "data": {
            "text/plain": [
              "<Figure size 720x432 with 2 Axes>"
            ],
            "image/png": "[encoded data removed]"
          },
          "metadata": {}
        },
        {
          "output_type": "stream",
          "name": "stdout",
          "text": [
            "time: 1.04 s (started: 2022-04-09 02:31:35 +00:00)\n"
          ]
        }
      ]
    },
    {
      "cell_type": "code",
      "source": [
        "X =df[['Rooms', 'Distance', 'Bathroom', 'Car', 'Landsize', \n",
        "            'BuildingArea', 'Propertycount','Age']]\n",
        "\n",
        "# Create target variable\n",
        "y = df['Price']\n",
        "\n",
        "# Train, test, split\n",
        "from sklearn.model_selection import train_test_split\n",
        "X_train, X_test, y_train, y_test = train_test_split(X,y, test_size = .20, random_state= 0)"
      ],
      "metadata": {
        "id": "On5uFU5Rf9Wd",
        "colab": {
          "base_uri": "https://localhost:8080/"
        },
        "outputId": "9db98fb9-9061-4025-f567-2b7f77d169d3"
      },
      "execution_count": null,
      "outputs": [
        {
          "output_type": "stream",
          "name": "stdout",
          "text": [
            "time: 13.1 ms (started: 2022-04-09 02:31:37 +00:00)\n"
          ]
        }
      ]
    },
    {
      "cell_type": "code",
      "source": [
        "X_train.describe()"
      ],
      "metadata": {
        "colab": {
          "base_uri": "https://localhost:8080/",
          "height": 318
        },
        "id": "k63nftDgHKlH",
        "outputId": "476a4850-ae89-46c0-f64a-2e2edb6e86fb"
      },
      "execution_count": null,
      "outputs": [
        {
          "output_type": "execute_result",
          "data": {
            "text/plain": [
              "             Rooms     Distance     Bathroom          Car      Landsize  \\\n",
              "count  7109.000000  7109.000000  7109.000000  7109.000000   7109.000000   \n",
              "mean      3.113518    11.257378     1.653960     1.697426    529.301590   \n",
              "std       0.969236     6.847894     0.724282     0.973637   1136.021223   \n",
              "min       1.000000     0.000000     1.000000     0.000000      0.000000   \n",
              "25%       3.000000     6.400000     1.000000     1.000000    216.000000   \n",
              "50%       3.000000    10.300000     2.000000     2.000000    482.000000   \n",
              "75%       4.000000    13.900000     2.000000     2.000000    653.000000   \n",
              "max      12.000000    47.400000     9.000000    10.000000  42800.000000   \n",
              "\n",
              "       BuildingArea  Propertycount          Age  \n",
              "count   7109.000000    7109.000000  7109.000000  \n",
              "mean     149.811853    7512.721058    51.097060  \n",
              "std       82.429067    4388.724395    36.166405  \n",
              "min        0.000000     249.000000    -2.000000  \n",
              "25%      100.000000    4387.000000    17.000000  \n",
              "50%      132.600000    6567.000000    47.000000  \n",
              "75%      181.000000   10331.000000    72.000000  \n",
              "max     1561.000000   21650.000000   187.000000  "
            ],
            "text/html": [
              "\n",
              "  <div id=\"df-e61536af-53c4-4502-b6e2-e0d87840ac1e\">\n",
              "    <div class=\"colab-df-container\">\n",
              "      <div>\n",
              "<style scoped>\n",
              "    .dataframe tbody tr th:only-of-type {\n",
              "        vertical-align: middle;\n",
              "    }\n",
              "\n",
              "    .dataframe tbody tr th {\n",
              "        vertical-align: top;\n",
              "    }\n",
              "\n",
              "    .dataframe thead th {\n",
              "        text-align: right;\n",
              "    }\n",
              "</style>\n",
              "<table border=\"1\" class=\"dataframe\">\n",
              "  <thead>\n",
              "    <tr style=\"text-align: right;\">\n",
              "      <th></th>\n",
              "      <th>Rooms</th>\n",
              "      <th>Distance</th>\n",
              "      <th>Bathroom</th>\n",
              "      <th>Car</th>\n",
              "      <th>Landsize</th>\n",
              "      <th>BuildingArea</th>\n",
              "      <th>Propertycount</th>\n",
              "      <th>Age</th>\n",
              "    </tr>\n",
              "  </thead>\n",
              "  <tbody>\n",
              "    <tr>\n",
              "      <th>count</th>\n",
              "      <td>7109.000000</td>\n",
              "      <td>7109.000000</td>\n",
              "      <td>7109.000000</td>\n",
              "      <td>7109.000000</td>\n",
              "      <td>7109.000000</td>\n",
              "      <td>7109.000000</td>\n",
              "      <td>7109.000000</td>\n",
              "      <td>7109.000000</td>\n",
              "    </tr>\n",
              "    <tr>\n",
              "      <th>mean</th>\n",
              "      <td>3.113518</td>\n",
              "      <td>11.257378</td>\n",
              "      <td>1.653960</td>\n",
              "      <td>1.697426</td>\n",
              "      <td>529.301590</td>\n",
              "      <td>149.811853</td>\n",
              "      <td>7512.721058</td>\n",
              "      <td>51.097060</td>\n",
              "    </tr>\n",
              "    <tr>\n",
              "      <th>std</th>\n",
              "      <td>0.969236</td>\n",
              "      <td>6.847894</td>\n",
              "      <td>0.724282</td>\n",
              "      <td>0.973637</td>\n",
              "      <td>1136.021223</td>\n",
              "      <td>82.429067</td>\n",
              "      <td>4388.724395</td>\n",
              "      <td>36.166405</td>\n",
              "    </tr>\n",
              "    <tr>\n",
              "      <th>min</th>\n",
              "      <td>1.000000</td>\n",
              "      <td>0.000000</td>\n",
              "      <td>1.000000</td>\n",
              "      <td>0.000000</td>\n",
              "      <td>0.000000</td>\n",
              "      <td>0.000000</td>\n",
              "      <td>249.000000</td>\n",
              "      <td>-2.000000</td>\n",
              "    </tr>\n",
              "    <tr>\n",
              "      <th>25%</th>\n",
              "      <td>3.000000</td>\n",
              "      <td>6.400000</td>\n",
              "      <td>1.000000</td>\n",
              "      <td>1.000000</td>\n",
              "      <td>216.000000</td>\n",
              "      <td>100.000000</td>\n",
              "      <td>4387.000000</td>\n",
              "      <td>17.000000</td>\n",
              "    </tr>\n",
              "    <tr>\n",
              "      <th>50%</th>\n",
              "      <td>3.000000</td>\n",
              "      <td>10.300000</td>\n",
              "      <td>2.000000</td>\n",
              "      <td>2.000000</td>\n",
              "      <td>482.000000</td>\n",
              "      <td>132.600000</td>\n",
              "      <td>6567.000000</td>\n",
              "      <td>47.000000</td>\n",
              "    </tr>\n",
              "    <tr>\n",
              "      <th>75%</th>\n",
              "      <td>4.000000</td>\n",
              "      <td>13.900000</td>\n",
              "      <td>2.000000</td>\n",
              "      <td>2.000000</td>\n",
              "      <td>653.000000</td>\n",
              "      <td>181.000000</td>\n",
              "      <td>10331.000000</td>\n",
              "      <td>72.000000</td>\n",
              "    </tr>\n",
              "    <tr>\n",
              "      <th>max</th>\n",
              "      <td>12.000000</td>\n",
              "      <td>47.400000</td>\n",
              "      <td>9.000000</td>\n",
              "      <td>10.000000</td>\n",
              "      <td>42800.000000</td>\n",
              "      <td>1561.000000</td>\n",
              "      <td>21650.000000</td>\n",
              "      <td>187.000000</td>\n",
              "    </tr>\n",
              "  </tbody>\n",
              "</table>\n",
              "</div>\n",
              "      <button class=\"colab-df-convert\" onclick=\"convertToInteractive('df-e61536af-53c4-4502-b6e2-e0d87840ac1e')\"\n",
              "              title=\"Convert this dataframe to an interactive table.\"\n",
              "              style=\"display:none;\">\n",
              "        \n",
              "  <svg xmlns=\"http://www.w3.org/2000/svg\" height=\"24px\"viewBox=\"0 0 24 24\"\n",
              "       width=\"24px\">\n",
              "    <path d=\"M0 0h24v24H0V0z\" fill=\"none\"/>\n",
              "    <path d=\"M18.56 5.44l.94 2.06.94-2.06 2.06-.94-2.06-.94-.94-2.06-.94 2.06-2.06.94zm-11 1L8.5 8.5l.94-2.06 2.06-.94-2.06-.94L8.5 2.5l-.94 2.06-2.06.94zm10 10l.94 2.06.94-2.06 2.06-.94-2.06-.94-.94-2.06-.94 2.06-2.06.94z\"/><path d=\"M17.41 7.96l-1.37-1.37c-.4-.4-.92-.59-1.43-.59-.52 0-1.04.2-1.43.59L10.3 9.45l-7.72 7.72c-.78.78-.78 2.05 0 2.83L4 21.41c.39.39.9.59 1.41.59.51 0 1.02-.2 1.41-.59l7.78-7.78 2.81-2.81c.8-.78.8-2.07 0-2.86zM5.41 20L4 18.59l7.72-7.72 1.47 1.35L5.41 20z\"/>\n",
              "  </svg>\n",
              "      </button>\n",
              "      \n",
              "  <style>\n",
              "    .colab-df-container {\n",
              "      display:flex;\n",
              "      flex-wrap:wrap;\n",
              "      gap: 12px;\n",
              "    }\n",
              "\n",
              "    .colab-df-convert {\n",
              "      background-color: #E8F0FE;\n",
              "      border: none;\n",
              "      border-radius: 50%;\n",
              "      cursor: pointer;\n",
              "      display: none;\n",
              "      fill: #1967D2;\n",
              "      height: 32px;\n",
              "      padding: 0 0 0 0;\n",
              "      width: 32px;\n",
              "    }\n",
              "\n",
              "    .colab-df-convert:hover {\n",
              "      background-color: #E2EBFA;\n",
              "      box-shadow: 0px 1px 2px rgba(60, 64, 67, 0.3), 0px 1px 3px 1px rgba(60, 64, 67, 0.15);\n",
              "      fill: #174EA6;\n",
              "    }\n",
              "\n",
              "    [theme=dark] .colab-df-convert {\n",
              "      background-color: #3B4455;\n",
              "      fill: #D2E3FC;\n",
              "    }\n",
              "\n",
              "    [theme=dark] .colab-df-convert:hover {\n",
              "      background-color: #434B5C;\n",
              "      box-shadow: 0px 1px 3px 1px rgba(0, 0, 0, 0.15);\n",
              "      filter: drop-shadow(0px 1px 2px rgba(0, 0, 0, 0.3));\n",
              "      fill: #FFFFFF;\n",
              "    }\n",
              "  </style>\n",
              "\n",
              "      <script>\n",
              "        const buttonEl =\n",
              "          document.querySelector('#df-e61536af-53c4-4502-b6e2-e0d87840ac1e button.colab-df-convert');\n",
              "        buttonEl.style.display =\n",
              "          google.colab.kernel.accessAllowed ? 'block' : 'none';\n",
              "\n",
              "        async function convertToInteractive(key) {\n",
              "          const element = document.querySelector('#df-e61536af-53c4-4502-b6e2-e0d87840ac1e');\n",
              "          const dataTable =\n",
              "            await google.colab.kernel.invokeFunction('convertToInteractive',\n",
              "                                                     [key], {});\n",
              "          if (!dataTable) return;\n",
              "\n",
              "          const docLinkHtml = 'Like what you see? Visit the ' +\n",
              "            '<a target=\"_blank\" href=https://colab.research.google.com/notebooks/data_table.ipynb>data table notebook</a>'\n",
              "            + ' to learn more about interactive tables.';\n",
              "          element.innerHTML = '';\n",
              "          dataTable['output_type'] = 'display_data';\n",
              "          await google.colab.output.renderOutput(dataTable, element);\n",
              "          const docLink = document.createElement('div');\n",
              "          docLink.innerHTML = docLinkHtml;\n",
              "          element.appendChild(docLink);\n",
              "        }\n",
              "      </script>\n",
              "    </div>\n",
              "  </div>\n",
              "  "
            ]
          },
          "metadata": {},
          "execution_count": 119
        },
        {
          "output_type": "stream",
          "name": "stdout",
          "text": [
            "time: 41.2 ms (started: 2022-04-09 02:31:37 +00:00)\n"
          ]
        }
      ]
    },
    {
      "cell_type": "code",
      "source": [
        "from sklearn.preprocessing import StandardScaler\n",
        "sc=StandardScaler()"
      ],
      "metadata": {
        "colab": {
          "base_uri": "https://localhost:8080/"
        },
        "id": "X0EeY5xDHzwh",
        "outputId": "d65325d0-8c33-42d8-9abe-f59e11be6ece"
      },
      "execution_count": null,
      "outputs": [
        {
          "output_type": "stream",
          "name": "stdout",
          "text": [
            "time: 1.54 ms (started: 2022-04-09 02:31:37 +00:00)\n"
          ]
        }
      ]
    },
    {
      "cell_type": "code",
      "source": [
        "X_train_sc=sc.fit_transform(X_train)"
      ],
      "metadata": {
        "colab": {
          "base_uri": "https://localhost:8080/"
        },
        "id": "2MeRBZ07IANo",
        "outputId": "e171afef-2733-4509-d3d6-e3c54cbdb6bc"
      },
      "execution_count": null,
      "outputs": [
        {
          "output_type": "stream",
          "name": "stdout",
          "text": [
            "time: 9.98 ms (started: 2022-04-09 02:31:37 +00:00)\n"
          ]
        }
      ]
    },
    {
      "cell_type": "code",
      "source": [
        "pd.DataFrame(X_train_sc).describe()"
      ],
      "metadata": {
        "colab": {
          "base_uri": "https://localhost:8080/",
          "height": 318
        },
        "id": "qECweig9IHzv",
        "outputId": "1770ceed-44b1-486f-b5c5-cdafe4d9608f"
      },
      "execution_count": null,
      "outputs": [
        {
          "output_type": "execute_result",
          "data": {
            "text/plain": [
              "                  0             1             2             3             4  \\\n",
              "count  7.109000e+03  7.109000e+03  7.109000e+03  7.109000e+03  7.109000e+03   \n",
              "mean  -4.110687e-16  1.492999e-16 -2.757988e-17  1.683060e-16  6.830062e-18   \n",
              "std    1.000070e+00  1.000070e+00  1.000070e+00  1.000070e+00  1.000070e+00   \n",
              "min   -2.180755e+00 -1.644034e+00 -9.029718e-01 -1.743509e+00 -4.659586e-01   \n",
              "25%   -1.171294e-01 -7.093742e-01 -9.029718e-01 -7.163603e-01 -2.758079e-01   \n",
              "50%   -1.171294e-01 -1.398160e-01  4.778040e-01  3.107888e-01 -4.164087e-02   \n",
              "75%    9.146833e-01  3.859300e-01  4.778040e-01  3.107888e-01  1.088951e-01   \n",
              "max    9.169185e+00  5.278289e+00  1.014323e+01  8.527982e+00  3.721204e+01   \n",
              "\n",
              "                  5             6             7  \n",
              "count  7.109000e+03  7.109000e+03  7.109000e+03  \n",
              "mean  -2.079111e-16  7.080815e-17  6.545927e-17  \n",
              "std    1.000070e+00  1.000070e+00  1.000070e+00  \n",
              "min   -1.817592e+00 -1.655204e+00 -1.468235e+00  \n",
              "25%   -6.043421e-01 -7.122664e-01 -9.428490e-01  \n",
              "50%   -2.088227e-01 -2.155040e-01 -1.132916e-01  \n",
              "75%    3.783901e-01  6.422087e-01  5.780063e-01  \n",
              "max    1.712123e+01  3.221499e+00  3.757976e+00  "
            ],
            "text/html": [
              "\n",
              "  <div id=\"df-697d82c8-5f3c-4563-898f-6d98698842e9\">\n",
              "    <div class=\"colab-df-container\">\n",
              "      <div>\n",
              "<style scoped>\n",
              "    .dataframe tbody tr th:only-of-type {\n",
              "        vertical-align: middle;\n",
              "    }\n",
              "\n",
              "    .dataframe tbody tr th {\n",
              "        vertical-align: top;\n",
              "    }\n",
              "\n",
              "    .dataframe thead th {\n",
              "        text-align: right;\n",
              "    }\n",
              "</style>\n",
              "<table border=\"1\" class=\"dataframe\">\n",
              "  <thead>\n",
              "    <tr style=\"text-align: right;\">\n",
              "      <th></th>\n",
              "      <th>0</th>\n",
              "      <th>1</th>\n",
              "      <th>2</th>\n",
              "      <th>3</th>\n",
              "      <th>4</th>\n",
              "      <th>5</th>\n",
              "      <th>6</th>\n",
              "      <th>7</th>\n",
              "    </tr>\n",
              "  </thead>\n",
              "  <tbody>\n",
              "    <tr>\n",
              "      <th>count</th>\n",
              "      <td>7.109000e+03</td>\n",
              "      <td>7.109000e+03</td>\n",
              "      <td>7.109000e+03</td>\n",
              "      <td>7.109000e+03</td>\n",
              "      <td>7.109000e+03</td>\n",
              "      <td>7.109000e+03</td>\n",
              "      <td>7.109000e+03</td>\n",
              "      <td>7.109000e+03</td>\n",
              "    </tr>\n",
              "    <tr>\n",
              "      <th>mean</th>\n",
              "      <td>-4.110687e-16</td>\n",
              "      <td>1.492999e-16</td>\n",
              "      <td>-2.757988e-17</td>\n",
              "      <td>1.683060e-16</td>\n",
              "      <td>6.830062e-18</td>\n",
              "      <td>-2.079111e-16</td>\n",
              "      <td>7.080815e-17</td>\n",
              "      <td>6.545927e-17</td>\n",
              "    </tr>\n",
              "    <tr>\n",
              "      <th>std</th>\n",
              "      <td>1.000070e+00</td>\n",
              "      <td>1.000070e+00</td>\n",
              "      <td>1.000070e+00</td>\n",
              "      <td>1.000070e+00</td>\n",
              "      <td>1.000070e+00</td>\n",
              "      <td>1.000070e+00</td>\n",
              "      <td>1.000070e+00</td>\n",
              "      <td>1.000070e+00</td>\n",
              "    </tr>\n",
              "    <tr>\n",
              "      <th>min</th>\n",
              "      <td>-2.180755e+00</td>\n",
              "      <td>-1.644034e+00</td>\n",
              "      <td>-9.029718e-01</td>\n",
              "      <td>-1.743509e+00</td>\n",
              "      <td>-4.659586e-01</td>\n",
              "      <td>-1.817592e+00</td>\n",
              "      <td>-1.655204e+00</td>\n",
              "      <td>-1.468235e+00</td>\n",
              "    </tr>\n",
              "    <tr>\n",
              "      <th>25%</th>\n",
              "      <td>-1.171294e-01</td>\n",
              "      <td>-7.093742e-01</td>\n",
              "      <td>-9.029718e-01</td>\n",
              "      <td>-7.163603e-01</td>\n",
              "      <td>-2.758079e-01</td>\n",
              "      <td>-6.043421e-01</td>\n",
              "      <td>-7.122664e-01</td>\n",
              "      <td>-9.428490e-01</td>\n",
              "    </tr>\n",
              "    <tr>\n",
              "      <th>50%</th>\n",
              "      <td>-1.171294e-01</td>\n",
              "      <td>-1.398160e-01</td>\n",
              "      <td>4.778040e-01</td>\n",
              "      <td>3.107888e-01</td>\n",
              "      <td>-4.164087e-02</td>\n",
              "      <td>-2.088227e-01</td>\n",
              "      <td>-2.155040e-01</td>\n",
              "      <td>-1.132916e-01</td>\n",
              "    </tr>\n",
              "    <tr>\n",
              "      <th>75%</th>\n",
              "      <td>9.146833e-01</td>\n",
              "      <td>3.859300e-01</td>\n",
              "      <td>4.778040e-01</td>\n",
              "      <td>3.107888e-01</td>\n",
              "      <td>1.088951e-01</td>\n",
              "      <td>3.783901e-01</td>\n",
              "      <td>6.422087e-01</td>\n",
              "      <td>5.780063e-01</td>\n",
              "    </tr>\n",
              "    <tr>\n",
              "      <th>max</th>\n",
              "      <td>9.169185e+00</td>\n",
              "      <td>5.278289e+00</td>\n",
              "      <td>1.014323e+01</td>\n",
              "      <td>8.527982e+00</td>\n",
              "      <td>3.721204e+01</td>\n",
              "      <td>1.712123e+01</td>\n",
              "      <td>3.221499e+00</td>\n",
              "      <td>3.757976e+00</td>\n",
              "    </tr>\n",
              "  </tbody>\n",
              "</table>\n",
              "</div>\n",
              "      <button class=\"colab-df-convert\" onclick=\"convertToInteractive('df-697d82c8-5f3c-4563-898f-6d98698842e9')\"\n",
              "              title=\"Convert this dataframe to an interactive table.\"\n",
              "              style=\"display:none;\">\n",
              "        \n",
              "  <svg xmlns=\"http://www.w3.org/2000/svg\" height=\"24px\"viewBox=\"0 0 24 24\"\n",
              "       width=\"24px\">\n",
              "    <path d=\"M0 0h24v24H0V0z\" fill=\"none\"/>\n",
              "    <path d=\"M18.56 5.44l.94 2.06.94-2.06 2.06-.94-2.06-.94-.94-2.06-.94 2.06-2.06.94zm-11 1L8.5 8.5l.94-2.06 2.06-.94-2.06-.94L8.5 2.5l-.94 2.06-2.06.94zm10 10l.94 2.06.94-2.06 2.06-.94-2.06-.94-.94-2.06-.94 2.06-2.06.94z\"/><path d=\"M17.41 7.96l-1.37-1.37c-.4-.4-.92-.59-1.43-.59-.52 0-1.04.2-1.43.59L10.3 9.45l-7.72 7.72c-.78.78-.78 2.05 0 2.83L4 21.41c.39.39.9.59 1.41.59.51 0 1.02-.2 1.41-.59l7.78-7.78 2.81-2.81c.8-.78.8-2.07 0-2.86zM5.41 20L4 18.59l7.72-7.72 1.47 1.35L5.41 20z\"/>\n",
              "  </svg>\n",
              "      </button>\n",
              "      \n",
              "  <style>\n",
              "    .colab-df-container {\n",
              "      display:flex;\n",
              "      flex-wrap:wrap;\n",
              "      gap: 12px;\n",
              "    }\n",
              "\n",
              "    .colab-df-convert {\n",
              "      background-color: #E8F0FE;\n",
              "      border: none;\n",
              "      border-radius: 50%;\n",
              "      cursor: pointer;\n",
              "      display: none;\n",
              "      fill: #1967D2;\n",
              "      height: 32px;\n",
              "      padding: 0 0 0 0;\n",
              "      width: 32px;\n",
              "    }\n",
              "\n",
              "    .colab-df-convert:hover {\n",
              "      background-color: #E2EBFA;\n",
              "      box-shadow: 0px 1px 2px rgba(60, 64, 67, 0.3), 0px 1px 3px 1px rgba(60, 64, 67, 0.15);\n",
              "      fill: #174EA6;\n",
              "    }\n",
              "\n",
              "    [theme=dark] .colab-df-convert {\n",
              "      background-color: #3B4455;\n",
              "      fill: #D2E3FC;\n",
              "    }\n",
              "\n",
              "    [theme=dark] .colab-df-convert:hover {\n",
              "      background-color: #434B5C;\n",
              "      box-shadow: 0px 1px 3px 1px rgba(0, 0, 0, 0.15);\n",
              "      filter: drop-shadow(0px 1px 2px rgba(0, 0, 0, 0.3));\n",
              "      fill: #FFFFFF;\n",
              "    }\n",
              "  </style>\n",
              "\n",
              "      <script>\n",
              "        const buttonEl =\n",
              "          document.querySelector('#df-697d82c8-5f3c-4563-898f-6d98698842e9 button.colab-df-convert');\n",
              "        buttonEl.style.display =\n",
              "          google.colab.kernel.accessAllowed ? 'block' : 'none';\n",
              "\n",
              "        async function convertToInteractive(key) {\n",
              "          const element = document.querySelector('#df-697d82c8-5f3c-4563-898f-6d98698842e9');\n",
              "          const dataTable =\n",
              "            await google.colab.kernel.invokeFunction('convertToInteractive',\n",
              "                                                     [key], {});\n",
              "          if (!dataTable) return;\n",
              "\n",
              "          const docLinkHtml = 'Like what you see? Visit the ' +\n",
              "            '<a target=\"_blank\" href=https://colab.research.google.com/notebooks/data_table.ipynb>data table notebook</a>'\n",
              "            + ' to learn more about interactive tables.';\n",
              "          element.innerHTML = '';\n",
              "          dataTable['output_type'] = 'display_data';\n",
              "          await google.colab.output.renderOutput(dataTable, element);\n",
              "          const docLink = document.createElement('div');\n",
              "          docLink.innerHTML = docLinkHtml;\n",
              "          element.appendChild(docLink);\n",
              "        }\n",
              "      </script>\n",
              "    </div>\n",
              "  </div>\n",
              "  "
            ]
          },
          "metadata": {},
          "execution_count": 122
        },
        {
          "output_type": "stream",
          "name": "stdout",
          "text": [
            "time: 50.5 ms (started: 2022-04-09 02:31:37 +00:00)\n"
          ]
        }
      ]
    },
    {
      "cell_type": "code",
      "source": [
        "from sklearn.linear_model import LinearRegression\n",
        "regressor = LinearRegression()\n",
        "regressor.fit(X_train_sc,y_train)"
      ],
      "metadata": {
        "colab": {
          "base_uri": "https://localhost:8080/"
        },
        "id": "kGuK9ehqgIhB",
        "outputId": "884af5e4-5a0b-44b7-fc78-90997be142ff"
      },
      "execution_count": null,
      "outputs": [
        {
          "output_type": "execute_result",
          "data": {
            "text/plain": [
              "LinearRegression()"
            ]
          },
          "metadata": {},
          "execution_count": 123
        },
        {
          "output_type": "stream",
          "name": "stdout",
          "text": [
            "time: 19.1 ms (started: 2022-04-09 02:31:37 +00:00)\n"
          ]
        }
      ]
    },
    {
      "cell_type": "code",
      "source": [
        "y_pred = regressor.predict(X_test)\n"
      ],
      "metadata": {
        "id": "vOpmJW8KhFPJ",
        "colab": {
          "base_uri": "https://localhost:8080/"
        },
        "outputId": "acecb494-df3c-4516-a9a7-dd135f5717aa"
      },
      "execution_count": null,
      "outputs": [
        {
          "output_type": "stream",
          "name": "stdout",
          "text": [
            "time: 14.6 ms (started: 2022-04-09 02:31:37 +00:00)\n"
          ]
        }
      ]
    },
    {
      "cell_type": "code",
      "source": [
        "regressor.score(X_train_sc,y_train)"
      ],
      "metadata": {
        "colab": {
          "base_uri": "https://localhost:8080/"
        },
        "id": "QBts1rxWQrkI",
        "outputId": "5d2cbd0c-308e-481f-f49f-1f8d534323cf"
      },
      "execution_count": null,
      "outputs": [
        {
          "output_type": "execute_result",
          "data": {
            "text/plain": [
              "0.5431593691538834"
            ]
          },
          "metadata": {},
          "execution_count": 125
        },
        {
          "output_type": "stream",
          "name": "stdout",
          "text": [
            "time: 14.9 ms (started: 2022-04-09 02:31:37 +00:00)\n"
          ]
        }
      ]
    },
    {
      "cell_type": "code",
      "source": [
        "regressor.score(X_test,y_test)"
      ],
      "metadata": {
        "colab": {
          "base_uri": "https://localhost:8080/"
        },
        "id": "qxc8ZW49RnUO",
        "outputId": "e6f12d9c-1ed1-4809-fd95-b02e37a28db8"
      },
      "execution_count": null,
      "outputs": [
        {
          "output_type": "execute_result",
          "data": {
            "text/plain": [
              "-3835.0844034333745"
            ]
          },
          "metadata": {},
          "execution_count": 126
        },
        {
          "output_type": "stream",
          "name": "stdout",
          "text": [
            "time: 15.6 ms (started: 2022-04-09 02:31:37 +00:00)\n"
          ]
        }
      ]
    },
    {
      "cell_type": "code",
      "source": [
        ""
      ],
      "metadata": {
        "id": "fqSQ_8G1E3p4"
      },
      "execution_count": null,
      "outputs": []
    },
    {
      "cell_type": "code",
      "source": [
        "from sklearn import metrics\n",
        "print('MAE:',metrics.mean_absolute_error(y_test,y_pred))\n",
        "print('MSE:',metrics.mean_squared_error(y_test,y_pred))\n",
        "print('RMSE:',np.sqrt(metrics.mean_squared_error(y_test,y_pred)))\n",
        "print('R^2 =',metrics.explained_variance_score(y_test,y_pred))"
      ],
      "metadata": {
        "colab": {
          "base_uri": "https://localhost:8080/"
        },
        "id": "jRGF5LyJSjpN",
        "outputId": "81e456a1-6999-4e8d-a236-1817a0e21754"
      },
      "execution_count": null,
      "outputs": [
        {
          "output_type": "stream",
          "name": "stdout",
          "text": [
            "MAE: 31775099.82723592\n",
            "MSE: 1892136087894517.0\n",
            "RMSE: 43498690.64574837\n",
            "R^2 = -2531.285364173991\n",
            "time: 6.38 ms (started: 2022-04-09 02:31:37 +00:00)\n"
          ]
        }
      ]
    },
    {
      "cell_type": "code",
      "source": [
        "from sklearn.linear_model import LogisticRegression\n",
        "lr=LogisticRegression()\n",
        "lr.fit(X_train_sc,y_train)"
      ],
      "metadata": {
        "colab": {
          "base_uri": "https://localhost:8080/"
        },
        "id": "DeOtf6fWhgn3",
        "outputId": "8225e3f0-5b7a-42ce-dbe6-a5491151ab74"
      },
      "execution_count": null,
      "outputs": [
        {
          "output_type": "execute_result",
          "data": {
            "text/plain": [
              "LogisticRegression()"
            ]
          },
          "metadata": {},
          "execution_count": 128
        },
        {
          "output_type": "stream",
          "name": "stdout",
          "text": [
            "time: 2min 6s (started: 2022-04-09 02:31:37 +00:00)\n"
          ]
        }
      ]
    },
    {
      "cell_type": "code",
      "source": [
        "train_pred_lr=lr.predict(X_train_sc)\n",
        "test_pred_lr=lr.predict(X_test)"
      ],
      "metadata": {
        "colab": {
          "base_uri": "https://localhost:8080/"
        },
        "id": "jQmBA9rxFSuX",
        "outputId": "b5832e1a-c135-4b93-a071-f3de4e214392"
      },
      "execution_count": null,
      "outputs": [
        {
          "output_type": "stream",
          "name": "stdout",
          "text": [
            "time: 131 ms (started: 2022-04-09 02:33:43 +00:00)\n"
          ]
        }
      ]
    },
    {
      "cell_type": "code",
      "source": [
        "from sklearn.metrics import accuracy_score"
      ],
      "metadata": {
        "colab": {
          "base_uri": "https://localhost:8080/"
        },
        "id": "5p5limsSFurp",
        "outputId": "5c320c51-5919-4318-fb72-f7416bb72a25"
      },
      "execution_count": null,
      "outputs": [
        {
          "output_type": "stream",
          "name": "stdout",
          "text": [
            "time: 1.13 ms (started: 2022-04-09 02:33:43 +00:00)\n"
          ]
        }
      ]
    },
    {
      "cell_type": "code",
      "source": [
        "print(\"Training Accuracy :\",accuracy_score(y_train,train_pred_lr))\n",
        "print(\"Testing Accuracy :\",accuracy_score(y_test,test_pred_lr))"
      ],
      "metadata": {
        "colab": {
          "base_uri": "https://localhost:8080/"
        },
        "id": "86LSONKWFd4L",
        "outputId": "08303a5f-4ca0-40b2-d882-c2e2874a79ea"
      },
      "execution_count": null,
      "outputs": [
        {
          "output_type": "stream",
          "name": "stdout",
          "text": [
            "Training Accuracy : 0.03094668729779153\n",
            "Testing Accuracy : 0.0\n",
            "time: 5.43 ms (started: 2022-04-09 02:33:43 +00:00)\n"
          ]
        }
      ]
    },
    {
      "cell_type": "code",
      "source": [
        "y_pred_lr=lr.predict(X_test)"
      ],
      "metadata": {
        "colab": {
          "base_uri": "https://localhost:8080/"
        },
        "id": "-mNVjzo4GBJO",
        "outputId": "3915f59d-2b50-4628-8b56-c67f12129a5d"
      },
      "execution_count": null,
      "outputs": [
        {
          "output_type": "stream",
          "name": "stdout",
          "text": [
            "time: 43.9 ms (started: 2022-04-09 02:33:43 +00:00)\n"
          ]
        }
      ]
    },
    {
      "cell_type": "code",
      "source": [
        "from sklearn import metrics\n",
        "print('MAE:',metrics.mean_absolute_error(y_test,y_pred_lr))\n",
        "print('MSE:',metrics.mean_squared_error(y_test,y_pred_lr))\n",
        "print('RMSE:',np.sqrt(metrics.mean_squared_error(y_test,y_pred_lr)))\n",
        "print('R^2 =',metrics.explained_variance_score(y_test,y_pred_lr))"
      ],
      "metadata": {
        "colab": {
          "base_uri": "https://localhost:8080/"
        },
        "id": "bhZUNbFFS5Dz",
        "outputId": "5f93f778-9edf-4e0e-eb73-3e8bb9e3daef"
      },
      "execution_count": null,
      "outputs": [
        {
          "output_type": "stream",
          "name": "stdout",
          "text": [
            "MAE: 467721.05793025874\n",
            "MSE: 594889468459.3876\n",
            "RMSE: 771290.7807431563\n",
            "R^2 = -2.220446049250313e-16\n",
            "time: 12.6 ms (started: 2022-04-09 02:33:43 +00:00)\n"
          ]
        }
      ]
    },
    {
      "cell_type": "code",
      "source": [
        "from sklearn. svm import SVC\n",
        "svc=SVC()\n",
        "svc.fit(X_train_sc,y_train)"
      ],
      "metadata": {
        "colab": {
          "base_uri": "https://localhost:8080/"
        },
        "id": "gbBWBTZ4iqbn",
        "outputId": "fd05638b-f6a0-4e24-85ef-b51ac3833db0"
      },
      "execution_count": null,
      "outputs": [
        {
          "output_type": "execute_result",
          "data": {
            "text/plain": [
              "SVC()"
            ]
          },
          "metadata": {},
          "execution_count": 134
        },
        {
          "output_type": "stream",
          "name": "stdout",
          "text": [
            "time: 16.4 s (started: 2022-04-09 02:33:43 +00:00)\n"
          ]
        }
      ]
    },
    {
      "cell_type": "code",
      "source": [
        "y_pred_svm=lr.predict(X_test)"
      ],
      "metadata": {
        "id": "W38T-oexjC6r",
        "colab": {
          "base_uri": "https://localhost:8080/"
        },
        "outputId": "e3291885-66ee-4eb0-868a-a355bb9b9253"
      },
      "execution_count": null,
      "outputs": [
        {
          "output_type": "stream",
          "name": "stdout",
          "text": [
            "time: 32.6 ms (started: 2022-04-09 02:34:00 +00:00)\n"
          ]
        }
      ]
    },
    {
      "cell_type": "code",
      "source": [
        "train_pred_svc=svc.predict(X_train_sc)\n",
        "test_pred_svc=svc.predict(X_test)"
      ],
      "metadata": {
        "colab": {
          "base_uri": "https://localhost:8080/"
        },
        "id": "eryuP4sCGgmh",
        "outputId": "eee54b25-98d7-48ce-f552-227f8224edb7"
      },
      "execution_count": null,
      "outputs": [
        {
          "output_type": "stream",
          "name": "stdout",
          "text": [
            "time: 5min 41s (started: 2022-04-09 02:34:00 +00:00)\n"
          ]
        }
      ]
    },
    {
      "cell_type": "code",
      "source": [
        "print(\"Training accuracy :\",accuracy_score(train_pred_svc,y_train))\n",
        "print(\"Testing accuracy:\",accuracy_score(test_pred_svc,y_test))"
      ],
      "metadata": {
        "colab": {
          "base_uri": "https://localhost:8080/"
        },
        "id": "L9gihTLSGdIO",
        "outputId": "be39c96d-c300-4e43-9db8-5e8bbdbc94f5"
      },
      "execution_count": null,
      "outputs": [
        {
          "output_type": "stream",
          "name": "stdout",
          "text": [
            "Training accuracy : 0.04627936418624279\n",
            "Testing accuracy: 0.00843644544431946\n",
            "time: 6.21 ms (started: 2022-04-09 02:39:41 +00:00)\n"
          ]
        }
      ]
    },
    {
      "cell_type": "code",
      "source": [
        "from sklearn import metrics\n",
        "print('MAE:',metrics.mean_absolute_error(y_test,y_pred_svm))\n",
        "print('MSE:',metrics.mean_squared_error(y_test,y_pred_svm))\n",
        "print('RMSE:',np.sqrt(metrics.mean_squared_error(y_test,y_pred_svm)))\n",
        "print('R^2 =',metrics.explained_variance_score(y_test,y_pred_svm))"
      ],
      "metadata": {
        "colab": {
          "base_uri": "https://localhost:8080/"
        },
        "id": "DzuurH4zSCMg",
        "outputId": "771a148e-7ae5-4166-be93-c492945b5539"
      },
      "execution_count": null,
      "outputs": [
        {
          "output_type": "stream",
          "name": "stdout",
          "text": [
            "MAE: 467721.05793025874\n",
            "MSE: 594889468459.3876\n",
            "RMSE: 771290.7807431563\n",
            "R^2 = -2.220446049250313e-16\n",
            "time: 9.74 ms (started: 2022-04-09 02:39:41 +00:00)\n"
          ]
        }
      ]
    },
    {
      "cell_type": "code",
      "source": [
        "from sklearn.ensemble import VotingClassifier"
      ],
      "metadata": {
        "colab": {
          "base_uri": "https://localhost:8080/"
        },
        "id": "ycWUc4HjFS_n",
        "outputId": "7100a9d1-29d2-4e06-9f89-03b43a450af5"
      },
      "execution_count": null,
      "outputs": [
        {
          "output_type": "stream",
          "name": "stdout",
          "text": [
            "time: 205 ms (started: 2022-04-09 02:39:41 +00:00)\n"
          ]
        }
      ]
    },
    {
      "cell_type": "code",
      "source": [
        "vc=VotingClassifier(estimators=[('logistic',lr),('support',svc)],voting='hard')"
      ],
      "metadata": {
        "colab": {
          "base_uri": "https://localhost:8080/"
        },
        "id": "tDHcK0H5F2JC",
        "outputId": "5a61121f-eebe-47fe-cb1d-2a8bb1c29621"
      },
      "execution_count": null,
      "outputs": [
        {
          "output_type": "stream",
          "name": "stdout",
          "text": [
            "time: 1.56 ms (started: 2022-04-09 02:39:41 +00:00)\n"
          ]
        }
      ]
    },
    {
      "cell_type": "code",
      "source": [
        "vc.fit(X_train,y_train)"
      ],
      "metadata": {
        "colab": {
          "base_uri": "https://localhost:8080/"
        },
        "id": "4r1vAqSNF_Zt",
        "outputId": "88d6a658-c44b-46ae-9713-c7ed0c6a517d"
      },
      "execution_count": null,
      "outputs": [
        {
          "output_type": "execute_result",
          "data": {
            "text/plain": [
              "VotingClassifier(estimators=[('logistic', LogisticRegression()),\n",
              "                             ('support', SVC())])"
            ]
          },
          "metadata": {},
          "execution_count": 141
        },
        {
          "output_type": "stream",
          "name": "stdout",
          "text": [
            "time: 1min 43s (started: 2022-04-09 02:39:41 +00:00)\n"
          ]
        }
      ]
    },
    {
      "cell_type": "code",
      "source": [
        "train_pred_vc=vc.predict(X_train_sc)\n",
        "test_pred_vc=vc.predict(X_test)\n"
      ],
      "metadata": {
        "colab": {
          "base_uri": "https://localhost:8080/"
        },
        "id": "yPBikkPpGG-Q",
        "outputId": "3981e12e-4ef4-45dc-eb19-4fc731c727d9"
      },
      "execution_count": null,
      "outputs": [
        {
          "output_type": "stream",
          "name": "stdout",
          "text": [
            "time: 6min 22s (started: 2022-04-09 02:41:25 +00:00)\n"
          ]
        }
      ]
    },
    {
      "cell_type": "code",
      "source": [
        "from sklearn.metrics import accuracy_score"
      ],
      "metadata": {
        "colab": {
          "base_uri": "https://localhost:8080/"
        },
        "id": "sU7y8ND2Iw24",
        "outputId": "1d0a6293-2940-466c-f2c5-589f9fe5c7d3"
      },
      "execution_count": null,
      "outputs": [
        {
          "output_type": "stream",
          "name": "stdout",
          "text": [
            "time: 1.78 ms (started: 2022-04-09 02:47:48 +00:00)\n"
          ]
        }
      ]
    },
    {
      "cell_type": "code",
      "source": [
        "print(\"Training accuracy :\",accuracy_score(train_pred_vc,y_train))\n",
        "print(\"Testing accuracy:\",accuracy_score(test_pred_vc,y_test))"
      ],
      "metadata": {
        "colab": {
          "base_uri": "https://localhost:8080/"
        },
        "id": "j-pNyeB-HNqR",
        "outputId": "940015fe-9f01-405c-8d2e-a28e7a69969f"
      },
      "execution_count": null,
      "outputs": [
        {
          "output_type": "stream",
          "name": "stdout",
          "text": [
            "Training accuracy : 0.011675341116894078\n",
            "Testing accuracy: 0.007874015748031496\n",
            "time: 9.82 ms (started: 2022-04-09 02:47:48 +00:00)\n"
          ]
        }
      ]
    }
  ],
  "metadata": {
    "colab": {
      "collapsed_sections": [],
      "name": "project.ipynb",
      "provenance": [],
      "include_colab_link": true
    },
    "kernelspec": {
      "display_name": "Python 3",
      "name": "python3"
    },
    "language_info": {
      "name": "python"
    }
  },
  "nbformat": 4,
  "nbformat_minor": 0
}